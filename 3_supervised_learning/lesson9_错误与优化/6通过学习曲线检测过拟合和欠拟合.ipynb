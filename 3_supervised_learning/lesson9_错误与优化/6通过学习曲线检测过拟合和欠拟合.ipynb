{
 "cells": [
  {
   "cell_type": "markdown",
   "metadata": {},
   "source": [
    "对于这道测验，我们将使用三个模型来训练下面的圆形数据集。\n",
    "\n",
    "决策树模型，\n",
    "逻辑回归模型，以及\n",
    "支持向量机模型。\n",
    "\n",
    "![](./e004.png)"
   ]
  },
  {
   "cell_type": "markdown",
   "metadata": {},
   "source": [
    "其中一个模型会过拟合，一个欠拟合，还有一个正常。首先，我们将编写代码为每个模型绘制学习曲线，最后我们将查看这些学习曲线，判断每个模型对应哪个曲线。"
   ]
  },
  {
   "cell_type": "markdown",
   "metadata": {},
   "source": [
    "我们将使用函数 learning_curve：\n",
    "\n",
    "train_sizes, train_scores, test_scores = learning_curve(\n",
    "    estimator, X, y, cv=None, n_jobs=1, train_sizes=np.linspace(.1, 1.0, num_trainings))\n",
    "\n",
    "不需要担心该函数的所有参数（[你可以在此处了解详情](https://scikit-learn.org/stable/auto_examples/model_selection/plot_learning_curve.html)），这里，我们将解释主要参数："
   ]
  },
  {
   "cell_type": "markdown",
   "metadata": {},
   "source": [
    "estimator，是我们针对数据使用的实际分类器，例如 LogisticRegression() 或 GradientBoostingClassifier()。\n",
    "\n",
    "X 和 y 是我们的数据，分别表示特征和标签。\n",
    "\n",
    "train_sizes 是用来在曲线上绘制每个点的数据大小。\n",
    "\n",
    "train_scores 是针对每组数据进行训练后的算法训练得分。\n",
    "\n",
    "test_scores 是针对每组数据进行训练后的算法测试得分。\n",
    "\n",
    "## 两个重要的现象：\n",
    "\n",
    "训练和测试得分是一个包含 3 个值的列表，这是因为函数使用了 3 折交叉验证。\n",
    "\n",
    "非常重要：可以看出，我们使用训练和测试误差来定义我们的曲线，而这个函数使用训练和测试得分来定义曲线。二者是相反的，因此误差越高，得分就越低。因此，当你看到曲线时，你需要自己在脑中将它颠倒过来，以便与上面的曲线对比。"
   ]
  },
  {
   "cell_type": "code",
   "execution_count": 31,
   "metadata": {},
   "outputs": [],
   "source": [
    "import matplotlib.pyplot as plt\n",
    "\n",
    "%matplotlib inline\n",
    "\n",
    "from sklearn.model_selection import learning_curve\n",
    "\n",
    "# It is good to randomize the data before drawing Learning Curves\n",
    "def randomize(X, Y):\n",
    "    permutation = np.random.permutation(Y.shape[0])\n",
    "    X2 = X[permutation,:]\n",
    "    Y2 = Y[permutation]\n",
    "    return X2, Y2\n",
    "\n",
    "def draw_learning_curves(X, y, estimator, num_trainings,estimator_name):\n",
    "    \n",
    "    train_sizes, train_scores, test_scores = learning_curve(\n",
    "        estimator, X2, y2, cv=None, n_jobs=1, train_sizes=np.linspace(.1, 1.0, num_trainings))\n",
    "\n",
    "    train_scores_mean = np.mean(train_scores, axis=1)\n",
    "    train_scores_std = np.std(train_scores, axis=1)\n",
    "    test_scores_mean = np.mean(test_scores, axis=1)\n",
    "    test_scores_std = np.std(test_scores, axis=1)\n",
    "\n",
    "    plt.grid()\n",
    "\n",
    "    plt.title(\"Learning Curves\")\n",
    "    plt.xlabel(\"Training examples_\"+estimator_name)\n",
    "    plt.ylabel(\"Score\")\n",
    "\n",
    "    plt.plot(train_scores_mean, 'o-', color=\"g\",\n",
    "             label=\"Training score\")\n",
    "    plt.plot(test_scores_mean, 'o-', color=\"y\",\n",
    "             label=\"Cross-validation score\")\n",
    "\n",
    "\n",
    "    plt.legend(loc=\"best\")\n",
    "    plt.savefig(\"./\"+estimator_name+\".png\")\n",
    "    plt.show()"
   ]
  },
  {
   "cell_type": "code",
   "execution_count": 36,
   "metadata": {},
   "outputs": [],
   "source": [
    "# Import, read, and split data\n",
    "import pandas as pd\n",
    "data = pd.read_csv('data.csv')\n",
    "import numpy as np\n",
    "\n",
    "\n",
    "X = np.array(data[['x1', 'x2']])\n",
    "y = np.array(data['y'])\n",
    "\n",
    "# Fix random seed\n",
    "np.random.seed(55)\n",
    "\n",
    "### Imports\n",
    "from sklearn.linear_model import LogisticRegression\n",
    "from sklearn.ensemble import GradientBoostingClassifier\n",
    "from sklearn.svm import SVC\n",
    "\n",
    "# TODO: Uncomment one of the three classifiers, and hit \"Test Run\"\n",
    "# to see the learning curve. Use these to answer the quiz below.\n",
    "\n",
    "### Logistic Regression\n",
    "#estimator = LogisticRegression()\n",
    "#estimator_name = \"LogisticRegression\"\n",
    "\n",
    "### Decision Tree\n",
    "#estimator = GradientBoostingClassifier()\n",
    "#estimator_name = \"GradientBoostingClassifier\"\n",
    "\n",
    "### Support Vector Machine\n",
    "estimator = SVC(kernel='rbf', gamma=1000)\n",
    "estimator_name = \"SVC\"\n",
    "\n"
   ]
  },
  {
   "cell_type": "code",
   "execution_count": 37,
   "metadata": {},
   "outputs": [
    {
     "name": "stdout",
     "output_type": "stream",
     "text": [
      "100 10.0\n"
     ]
    },
    {
     "name": "stderr",
     "output_type": "stream",
     "text": [
      "/home/leon/anaconda3/envs/tf/lib/python3.6/site-packages/ipykernel_launcher.py:17: DeprecationWarning: object of type <class 'float'> cannot be safely interpreted as an integer.\n",
      "/home/leon/anaconda3/envs/tf/lib/python3.6/site-packages/sklearn/model_selection/_split.py:2053: FutureWarning: You should specify a value for 'cv' instead of relying on the default value. The default value will change from 3 to 5 in version 0.22.\n",
      "  warnings.warn(CV_WARNING, FutureWarning)\n"
     ]
    },
    {
     "data": {
      "image/png": "[encoded data removed]",
      "text/plain": [
       "<Figure size 432x288 with 1 Axes>"
      ]
     },
     "metadata": {
      "needs_background": "light"
     },
     "output_type": "display_data"
    }
   ],
   "source": [
    "num_trainings = len(y)/10\n",
    "print(len(y),num_trainings)\n",
    "X2, y2 = randomize(X, y)\n",
    "\n",
    "draw_learning_curves( X, y,estimator,num_trainings,estimator_name)"
   ]
  },
  {
   "cell_type": "markdown",
   "metadata": {},
   "source": [
    "![](./LogisticRegression.png)\n",
    "![](./GradientBoostingClassifier.png)\n",
    "![](./SVC.png)"
   ]
  },
  {
   "cell_type": "markdown",
   "metadata": {},
   "source": [
    "获得曲线：\n",
    "\n",
    "![](./e200.png)"
   ]
  },
  {
   "cell_type": "markdown",
   "metadata": {},
   "source": [
    "我们可以根据这些曲线得出结论：\n",
    "\n",
    "**对数几率回归模型**的训练和测试得分很低。\n",
    "\n",
    "**决策树模型**的训练和测试得分很高。\n",
    "\n",
    "**支持向量机模型**的训练得分很高，测试得分很低。\n",
    "\n",
    "由此可以判断，逻辑回归模型欠拟合，支持向量机模型过拟合，决策树正常。"
   ]
  },
  {
   "cell_type": "markdown",
   "metadata": {},
   "source": [
    "同样，我们可以翻转这些曲线（因为它们测量的是得分，而原始曲线测量的是错误），并将它们与下面的三条曲线对比，可以看出它们与我们之前看到的三条曲线很像。（注意：我们需要翻转曲线并不意味着错误是 1 减去得分。只是表示模型越来越好的话，错误会降低，得分会升高。）\n",
    "\n",
    "![](./e201.png)"
   ]
  },
  {
   "cell_type": "markdown",
   "metadata": {},
   "source": [
    "现在我们应该检测在实际模型中是否这样。当我们绘制每个模型的界限曲线时，结果如下所示：\n",
    "\n",
    "![](./e202.png)"
   ]
  },
  {
   "cell_type": "markdown",
   "metadata": {},
   "source": [
    "当我们查看上述模型时，第一个模型欠拟合，第二个正常，第三个过拟合，这种现象合理吗？合理吧？我们看到数据由圆圈或方框正确地划分出来。我们的模型按以下形式划分数据：\n",
    "\n",
    "**逻辑回归**模型使用一条直线，这太简单了。在训练集上的效果不太好，因此欠拟合。\n",
    "\n",
    "**决策树**模型使用一个方形，拟合的很好，并能够泛化。因此，该模型效果很好。\n",
    "\n",
    "**支持向量**机模型实际上在每个点周围都画了一个小圆圈。它实际上是在记住训练集，无法泛化。因此 过拟合。\n",
    "\n",
    "最好尽可能进行实际检查，确保模型的确具有指标所指示的行为。"
   ]
  },
  {
   "cell_type": "code",
   "execution_count": null,
   "metadata": {},
   "outputs": [],
   "source": []
  }
 ],
 "metadata": {
  "kernelspec": {
   "display_name": "Python [conda env:tf]",
   "language": "python",
   "name": "conda-env-tf-py"
  },
  "language_info": {
   "codemirror_mode": {
    "name": "ipython",
    "version": 3
   },
   "file_extension": ".py",
   "mimetype": "text/x-python",
   "name": "python",
   "nbconvert_exporter": "python",
   "pygments_lexer": "ipython3",
   "version": "3.6.8"
  }
 },
 "nbformat": 4,
 "nbformat_minor": 2
}
