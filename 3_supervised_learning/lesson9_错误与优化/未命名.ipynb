{
 "cells": [
  {
   "cell_type": "markdown",
   "metadata": {},
   "source": [
    "# 错误类型\n",
    "\n",
    "生活中常犯的两个错误是，过于简化模型，过于复杂化模型\n",
    "\n",
    "![](e000.png)\n"
   ]
  },
  {
   "cell_type": "markdown",
   "metadata": {},
   "source": [
    "# 交叉验证\n",
    "\n",
    "之前将数据分为训练集和测试集，判定模型效果，实际上犯了一个错误，将测试集参与了模型判定。\n",
    "\n",
    "为更客观的反映模型效果，引入一个新的子集，交叉验证集。\n",
    "\n",
    "模型越复杂，训练误差越来越小，测试误差开始很大，然后逐渐减小，然后再逐渐变大。\n",
    "\n",
    "![](./e001.png)\n",
    "\n",
    "左侧欠拟合，右侧过拟合。"
   ]
  },
  {
   "cell_type": "markdown",
   "metadata": {},
   "source": [
    "# K 折交叉验证\n",
    "\n",
    "将数据分成K份，然后训练模型K次，每次轮流取不同的几分数据作为测试集，剩余数据作为训练集，然后对结果取平均，得到最终的模型。\n",
    "\n",
    "从SKLearn库中调用K折交叉验证很简单，创建一个K折交叉验证对象，其参数分别是数据的大小和测试集的大小，建议每次都随机化数据，以消除任何偏差暗示，\n",
    "\n",
    "![](./e002.png)"
   ]
  },
  {
   "cell_type": "markdown",
   "metadata": {},
   "source": [
    "# 学习曲线\n",
    "\n",
    "以训练数据样本数为横轴，误差为纵轴，画出训练集和交叉验证集的误差曲线\n",
    "\n",
    "![](e003.png)\n"
   ]
  },
  {
   "cell_type": "markdown",
   "metadata": {},
   "source": [
    "在高偏差或欠拟合模型中，两个曲线彼此逐渐靠近，收敛在高点；\n",
    "\n",
    "好的模型中，两个曲线彼此逐渐靠近，并且收敛在低点;\n",
    "\n",
    "在高方差或过拟合模型中，两个曲线不会彼此靠近，训练误差曲线保持在低位，而交叉验证误差曲线保持在高位；\n",
    "\n",
    "这是区分欠拟合和过拟合的一种方法；"
   ]
  },
  {
   "cell_type": "markdown",
   "metadata": {},
   "source": [
    "# 通过学习曲线检测过拟合和欠拟合\n",
    "\n"
   ]
  },
  {
   "cell_type": "markdown",
   "metadata": {},
   "source": [
    "# 网格搜索\n",
    "\n",
    "总结以下机器学习过程：\n",
    "\n",
    "首先用训练集训练一些模型，然后利用交叉验证集数据在其中选择一个最好的模型，最后利用测试数据进行检测来保证这个模型是最好的。\n",
    "\n",
    "这是一个训练逻辑回归的粒子：\n",
    "\n",
    "![](./e300.png)\n",
    "\n",
    "它是一条直线，一个二阶、三阶和四阶模型，用训练集数据来训练这个多项式的斜率和系数参数等，用交叉验证集数据来计算F1分数值\n",
    "\n",
    "然后选择F1分数最高的模型，最后使用测试数据来确保所选模型是最好的.\n"
   ]
  },
  {
   "cell_type": "markdown",
   "metadata": {},
   "source": [
    "同理，看另外一个例子，训练决策树，它的超参数是，深度\n",
    "\n",
    "![](./e301.png)"
   ]
  },
  {
   "cell_type": "markdown",
   "metadata": {},
   "source": [
    "如果有多个超参数，比如训练支持向量机，如何在核参数和C参数之间选择最佳组合呢？\n",
    "\n",
    "![](./e302.png)\n",
    "\n",
    "用网格搜索，做一张有各种可能性的表格，用训练集数据训练模型，然后用交叉验证集计算，选择F1分数最高值。\n",
    "\n",
    "![](./e303.png)"
   ]
  },
  {
   "cell_type": "markdown",
   "metadata": {},
   "source": [
    "# 在sklearn中的网格搜索\n",
    "\n",
    "假设我们想要训练支持向量机，并且我们想在以下参数之间做出决定：\n",
    "\n",
    "kernel：poly或rbf。\n",
    "\n",
    "C：0.1,1 或 10。\n",
    "\n",
    "## 1.导入 GridSearchCV\n",
    "\n",
    "```\n",
    "from sklearn.model_selection import GridSearchCV\n",
    "```\n",
    "\n",
    "## 2.选择参数：\n",
    "\n",
    "现在我们来选择我们想要选择的参数，并形成一个字典。 在这本字典中，键 (keys) 将是参数的名称，值 （values) 将是每个参数可能值的列表。\n",
    "\n",
    "```\n",
    "parameters = {'kernel':['poly', 'rbf'],'C':[0.1, 1, 10]}\n",
    "```\n",
    "\n",
    "## 3.创建一个评分机制 (scorer)\n",
    "\n",
    "我们需要确认将使用什么指标来为每个候选模型评分。 这里，我们将使用 F1 分数。\n",
    "\n",
    "```\n",
    "from sklearn.metrics import make_scorer\n",
    "from sklearn.metrics import f1_score\n",
    "scorer = make_scorer(f1_score)\n",
    "```\n",
    "\n",
    "## 4.使用参数 (parameter) 和评分机制 (scorer) 创建一个 GridSearch 对象。 使用此对象与数据保持一致 （fit the data) 。\n",
    "\n",
    "```\n",
    "# Create the object.\n",
    "grid_obj = GridSearchCV(clf, parameters, scoring=scorer)\n",
    "# Fit the data\n",
    "grid_fit = grid_obj.fit(X, y)\n",
    "```\n",
    "\n",
    "## 5.获得最佳估算器 (estimator)\n",
    "\n",
    "```\n",
    "best_clf = grid_fit.best_estimator_\n",
    "```\n",
    "\n",
    "现在可以使用这一估算器best_clf来做出预测。"
   ]
  },
  {
   "cell_type": "code",
   "execution_count": null,
   "metadata": {},
   "outputs": [],
   "source": []
  },
  {
   "cell_type": "code",
   "execution_count": null,
   "metadata": {},
   "outputs": [],
   "source": []
  }
 ],
 "metadata": {
  "kernelspec": {
   "display_name": "Python [conda env:tf_gpu]",
   "language": "python",
   "name": "conda-env-tf_gpu-py"
  },
  "language_info": {
   "codemirror_mode": {
    "name": "ipython",
    "version": 3
   },
   "file_extension": ".py",
   "mimetype": "text/x-python",
   "name": "python",
   "nbconvert_exporter": "python",
   "pygments_lexer": "ipython3",
   "version": "3.7.3"
  }
 },
 "nbformat": 4,
 "nbformat_minor": 2
}
