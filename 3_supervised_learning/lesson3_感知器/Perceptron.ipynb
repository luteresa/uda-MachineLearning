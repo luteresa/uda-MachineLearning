{
 "cells": [
  {
   "cell_type": "markdown",
   "metadata": {},
   "source": [
    "# 分类问题\n",
    "\n",
    "## 在二维空间，实际上可以等效于拟合最佳直线，将所有点分类\n",
    "\n",
    "![](./cf001.png)\n",
    "\n",
    "## 三围空间，就是拟合最佳平面\n",
    "\n",
    "![](./cf003.png)"
   ]
  },
  {
   "cell_type": "markdown",
   "metadata": {},
   "source": [
    "## 扩展到n维空间\n",
    "\n",
    "![](./cf004.png)"
   ]
  },
  {
   "cell_type": "markdown",
   "metadata": {},
   "source": [
    "# 满足n维空间的各向量维度\n",
    "\n",
    "W:(1xn),  x:(nx1),  b:(1x1)"
   ]
  },
  {
   "cell_type": "markdown",
   "metadata": {},
   "source": [
    "# 感知器\n",
    "\n"
   ]
  },
  {
   "cell_type": "markdown",
   "metadata": {},
   "source": [
    "把方程式进行编码，形成下图的节点链接方式\n",
    "\n",
    "![](./cf005.png)\n",
    "\n",
    "把方程式参数提取出来作为权重，特征向量作为输入节点，方程结果作为输出\n",
    "\n",
    "把偏置值也作为一个权重(对应特征为固定值1)，最后检查结果是否大于0,如果是，返回1,否则返回0；\n",
    "\n",
    "提炼出通用公式：\n",
    "\n",
    "![](./cf007.png)\n",
    "\n"
   ]
  },
  {
   "cell_type": "markdown",
   "metadata": {},
   "source": [
    "# 阶跃函数 Setp Function\n",
    "\n",
    "输入值不小于0,则输出1，否则输出0；\n",
    "\n",
    "![](./cf008.png)\n",
    "\n",
    "$$ f(x)=\\left\\{\n",
    "\\begin{aligned}\n",
    "1 && x>= 0  \\\\\n",
    "0 && x < 0  \\\\\n",
    "\\end{aligned}\n",
    "\\right.\n",
    "$$\n"
   ]
  },
  {
   "cell_type": "markdown",
   "metadata": {},
   "source": [
    "# 用感知器实现简单逻辑\n",
    "\n",
    "## AND运算\n",
    "\n",
    "![](./cf009.png)\n"
   ]
  },
  {
   "cell_type": "code",
   "execution_count": 5,
   "metadata": {},
   "outputs": [
    {
     "name": "stdout",
     "output_type": "stream",
     "text": [
      "Nice!  You got it all correct.\n",
      "\n",
      " Input 1    Input 2    Linear Combination    Activation Output   Is Correct\n",
      "       0          0                  -1.5                    0          Yes\n",
      "       0          1                  -0.5                    0          Yes\n",
      "       1          0                  -0.5                    0          Yes\n",
      "       1          1                   0.5                    1          Yes\n"
     ]
    }
   ],
   "source": [
    "%matplotlib inline\n",
    "import pandas as pd\n",
    "\n",
    "# TODO: Set weight1, weight2, and bias\n",
    "weight1 = 1.0\n",
    "weight2 = 1.0\n",
    "bias = -1.5\n",
    "\n",
    "\n",
    "# DON'T CHANGE ANYTHING BELOW\n",
    "# Inputs and outputs\n",
    "test_inputs = [(0, 0), (0, 1), (1, 0), (1, 1)]\n",
    "correct_outputs = [False, False, False, True]\n",
    "outputs = []\n",
    "\n",
    "# Generate and check output\n",
    "for test_input, correct_output in zip(test_inputs, correct_outputs):\n",
    "    linear_combination = weight1 * test_input[0] + weight2 * test_input[1] + bias\n",
    "    output = int(linear_combination >= 0)\n",
    "    is_correct_string = 'Yes' if output == correct_output else 'No'\n",
    "    outputs.append([test_input[0], test_input[1], linear_combination, output, is_correct_string])\n",
    "\n",
    "# Print output\n",
    "num_wrong = len([output[4] for output in outputs if output[4] == 'No'])\n",
    "output_frame = pd.DataFrame(outputs, columns=['Input 1', '  Input 2', '  Linear Combination', '  Activation Output', '  Is Correct'])\n",
    "if not num_wrong:\n",
    "    print('Nice!  You got it all correct.\\n')\n",
    "else:\n",
    "    print('You got {} wrong.  Keep trying!\\n'.format(num_wrong))\n",
    "print(output_frame.to_string(index=False))\n"
   ]
  },
  {
   "cell_type": "markdown",
   "metadata": {},
   "source": [
    "##  OR 运算\n",
    "\n",
    "![](./cf010.png)"
   ]
  },
  {
   "cell_type": "markdown",
   "metadata": {},
   "source": [
    "## NOT ('非')"
   ]
  },
  {
   "cell_type": "code",
   "execution_count": 7,
   "metadata": {},
   "outputs": [
    {
     "name": "stdout",
     "output_type": "stream",
     "text": [
      "Nice!  You got it all correct.\n",
      "\n",
      " Input 1    Input 2    Linear Combination    Activation Output   Is Correct\n",
      "       0          0                   1.0                    1          Yes\n",
      "       0          1                  -3.5                    0          Yes\n",
      "       1          0                   3.5                    1          Yes\n",
      "       1          1                  -1.0                    0          Yes\n"
     ]
    }
   ],
   "source": [
    "%matplotlib inline\n",
    "import pandas as pd\n",
    "\n",
    "# TODO: Set weight1, weight2, and bias\n",
    "weight1 = 2.5\n",
    "weight2 = -4.5\n",
    "bias = 1.0\n",
    "\n",
    "\n",
    "# DON'T CHANGE ANYTHING BELOW\n",
    "# Inputs and outputs\n",
    "test_inputs = [(0, 0), (0, 1), (1, 0), (1, 1)]\n",
    "correct_outputs = [True, False, True, False]\n",
    "outputs = []\n",
    "\n",
    "# Generate and check output\n",
    "for test_input, correct_output in zip(test_inputs, correct_outputs):\n",
    "    linear_combination = weight1 * test_input[0] + weight2 * test_input[1] + bias\n",
    "    output = int(linear_combination >= 0)\n",
    "    is_correct_string = 'Yes' if output == correct_output else 'No'\n",
    "    outputs.append([test_input[0], test_input[1], linear_combination, output, is_correct_string])\n",
    "\n",
    "# Print output\n",
    "num_wrong = len([output[4] for output in outputs if output[4] == 'No'])\n",
    "output_frame = pd.DataFrame(outputs, columns=['Input 1', '  Input 2', '  Linear Combination', '  Activation Output', '  Is Correct'])\n",
    "if not num_wrong:\n",
    "    print('Nice!  You got it all correct.\\n')\n",
    "else:\n",
    "    print('You got {} wrong.  Keep trying!\\n'.format(num_wrong))\n",
    "print(output_frame.to_string(index=False))"
   ]
  },
  {
   "cell_type": "markdown",
   "metadata": {},
   "source": [
    "## 用感知器实现逻辑运算 - XOR （“异或”）\n",
    "\n",
    "![](./cf011.png)\n",
    "\n",
    "A: AND\n",
    "\n",
    "B: OR\n",
    "\n",
    "C: NOT"
   ]
  },
  {
   "cell_type": "markdown",
   "metadata": {},
   "source": [
    "通过简单逻辑的重新组合，可以表达更复杂的逻辑。\n",
    "\n",
    "感知器是神经网络的最基础单元，"
   ]
  },
  {
   "cell_type": "markdown",
   "metadata": {},
   "source": [
    "# 如何拟合最佳感知器方程？\n",
    "\n",
    "先给待拟合参数任意初始值，然后检查所有学习数据\n",
    "\n",
    "![](./cf012.png)\n",
    "\n",
    "正确分类的点，不做处理，凡发现错误点，更新参数，**使分类直线更靠近自己**"
   ]
  },
  {
   "cell_type": "markdown",
   "metadata": {},
   "source": [
    "调整直线，更新参数的方法，类似线性回归中的拟合直线\n",
    "\n",
    "![](./cf013.png)"
   ]
  },
  {
   "cell_type": "markdown",
   "metadata": {},
   "source": [
    "# 感知器算法实现"
   ]
  },
  {
   "cell_type": "code",
   "execution_count": 63,
   "metadata": {
    "scrolled": true
   },
   "outputs": [
    {
     "name": "stdout",
     "output_type": "stream",
     "text": [
      "data.type: <class 'numpy.ndarray'> <built-in method reshape of numpy.ndarray object at 0x7fa6afee14e0>\n"
     ]
    },
    {
     "data": {
      "image/png": "[encoded data removed]",
      "text/plain": [
       "<Figure size 432x288 with 1 Axes>"
      ]
     },
     "metadata": {
      "needs_background": "light"
     },
     "output_type": "display_data"
    }
   ],
   "source": [
    "import numpy as np\n",
    "# Setting the random seed, feel free to change it and see different solutions.\n",
    "np.random.seed(42)\n",
    "\n",
    "def stepFunction(t):\n",
    "    if t >= 0:\n",
    "        return 1\n",
    "    return 0\n",
    "\n",
    "def prediction(X, W, b):\n",
    "    return stepFunction((np.matmul(X,W)+b)[0])\n",
    "\n",
    "# TODO: Fill in the code below to implement the perceptron trick.\n",
    "# The function should receive as inputs the data X, the labels y,\n",
    "# the weights W (as an array), and the bias b,\n",
    "# update the weights and bias W, b, according to the perceptron algorithm,\n",
    "# and return W and b.\n",
    "def perceptronStep(X, y, W, b, learn_rate = 0.01):\n",
    "    # Fill in code\n",
    "    for i in range(len(X)):\n",
    "        y_hat = prediction(X[i],W,b)\n",
    "        if y[i]-y_hat == 1:\n",
    "            W[0] += X[i][0]*learn_rate\n",
    "            W[1] += X[i][1]*learn_rate\n",
    "            b += learn_rate\n",
    "        elif y[i]-y_hat == -1:\n",
    "            W[0] -= X[i][0]*learn_rate\n",
    "            W[1] -= X[i][1]*learn_rate\n",
    "            b -= learn_rate\n",
    "    return W, b\n",
    "    \n",
    "# This function runs the perceptron algorithm repeatedly on the dataset,\n",
    "# and returns a few of the boundary lines obtained in the iterations,\n",
    "# for plotting purposes.\n",
    "# Feel free to play with the learning rate and the num_epochs,\n",
    "# and see your results plotted below.\n",
    "def trainPerceptronAlgorithm(X, y, learn_rate = 0.01, num_epochs = 25):\n",
    "    x_min, x_max = min(X.T[0]), max(X.T[0])\n",
    "    y_min, y_max = min(X.T[1]), max(X.T[1])\n",
    "    W = np.array(np.random.rand(2,1))\n",
    "    b = np.random.rand(1)[0] + x_max\n",
    "    # These are the solution lines that get plotted below.\n",
    "    boundary_lines = []\n",
    "    for i in range(num_epochs):\n",
    "        # In each epoch, we apply the perceptron step.\n",
    "        W, b = perceptronStep(X, y, W, b, learn_rate)\n",
    "        boundary_lines.append((-W[0]/W[1], -b/W[1]))\n",
    "    return boundary_lines\n",
    "\n",
    "if __name__ == \"__main__\":\n",
    "    # perform perceptron \n",
    "    data = np.loadtxt('data.csv', delimiter = ',')\n",
    "    print(\"data.type:\",type(data),data.reshape)\n",
    "    X = data[:,:-1]\n",
    "    y = data[:,-1]\n",
    "    regression_coef = trainPerceptronAlgorithm(X, y)\n",
    "    \n",
    "    # plot the results\n",
    "    import matplotlib.pyplot as plt\n",
    "    \n",
    "    plt.figure()\n",
    "    X_ = data[:,0]\n",
    "    y_ = data[:,1]\n",
    "    \n",
    "    data1 = [x for x in data if x[2] > 0]\n",
    "    data0 = [x for x in data if x[2] == 0]\n",
    "    \n",
    "    X_min = X_.min()\n",
    "    X_max = X_.max()\n",
    "    \n",
    "    data0_ = np.array(data0)\n",
    "    X0_ = data0_[:,0]\n",
    "    Y0_ = data0_[:,1]\n",
    "    data1_ = np.array(data1)\n",
    "    X1_ = data1_[:,0]\n",
    "    Y1_ = data1_[:,1]\n",
    "    \n",
    "    \n",
    "    plt.scatter(X1_, Y1_, zorder = 3, c='b')\n",
    "    plt.scatter(X0_, Y0_, zorder = 3, c='r')\n",
    "    \n",
    "    \n",
    "    counter = len(regression_coef)\n",
    "    '''\n",
    "    想画多根直线，直观看分类线移动过程，代码有问题\n",
    "     for W, b in regression_coef:\n",
    "        counter -= 1\n",
    "        color = [1 - 0.92 ** counter for _ in range(3)]\n",
    "        #print(color)\n",
    "        Y_min = X_min * W + b\n",
    "        Y_max = X_max * W + b\n",
    "        if Y_min > 1:\n",
    "            Y_min = 1\n",
    "            X_min = (1 - b)/W\n",
    "        if Y_min < 0:\n",
    "            Y_min = 0\n",
    "            X_min = (0-b)/W\n",
    "        if Y_max > 1:\n",
    "            Y_max = 1\n",
    "            X_max = (1 - b)/W\n",
    "        if Y_max < 0:\n",
    "            Y_max = 0\n",
    "            X_max = (Y_max - b)/W\n",
    "        print([X_min, X_max],[Y_min, Y_max])\n",
    "        #plt.plot([X_min, X_max],[Y_min, Y_max], color = color) #color=[0.5, 0.5, 0.5]\n",
    "    '''\n",
    "    W, b = regression_coef[-1]\n",
    "    \n",
    "    plt.plot([X_min, X_max],[X_min * W + b, X_max * W + b], color = color) #color=[0.5, 0.5, 0.5]\n",
    "\n",
    "    \n",
    "    #plt.show()\n",
    "    plt.savefig(\"Perceptron.png\")\n",
    "    \n"
   ]
  },
  {
   "cell_type": "code",
   "execution_count": null,
   "metadata": {},
   "outputs": [],
   "source": []
  }
 ],
 "metadata": {
  "kernelspec": {
   "display_name": "Python [conda env:tf_gpu]",
   "language": "python",
   "name": "conda-env-tf_gpu-py"
  },
  "language_info": {
   "codemirror_mode": {
    "name": "ipython",
    "version": 3
   },
   "file_extension": ".py",
   "mimetype": "text/x-python",
   "name": "python",
   "nbconvert_exporter": "python",
   "pygments_lexer": "ipython3",
   "version": "3.7.3"
  }
 },
 "nbformat": 4,
 "nbformat_minor": 2
}
