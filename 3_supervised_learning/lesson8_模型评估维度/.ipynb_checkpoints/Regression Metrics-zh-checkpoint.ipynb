{
 "cells": [
  {
   "cell_type": "markdown",
   "metadata": {},
   "source": [
    "### Boston Housing Data\n",
    "\n",
    "为了更好地理解在回归中使用的各种指标，我们将使用波士顿住房数据集。  \n",
    "\n",
    "首先在下面的单元格中导入数据集，划分训练数据和测试数据来后面做准备。"
   ]
  },
  {
   "cell_type": "code",
   "execution_count": 1,
   "metadata": {},
   "outputs": [],
   "source": [
    "from sklearn.datasets import load_boston\n",
    "from sklearn.model_selection import train_test_split\n",
    "import numpy as np\n",
    "import tests2 as t\n",
    "\n",
    "boston = load_boston()\n",
    "y = boston.target\n",
    "X = boston.data\n",
    "\n",
    "X_train, X_test, y_train, y_test = train_test_split(\n",
    "            X, y, test_size=0.33, random_state=42)"
   ]
  },
  {
   "cell_type": "markdown",
   "metadata": {},
   "source": [
    "> **步骤 1：**在开始前，让我们先快速检查一下哪些模型可以用于回归问题。请将下面的模型字典中的各项和相应的字母（问题类型标识）进行配对。"
   ]
  },
  {
   "cell_type": "code",
   "execution_count": 2,
   "metadata": {},
   "outputs": [
    {
     "name": "stdout",
     "output_type": "stream",
     "text": [
      "That's right!  All but logistic regression can be used for predicting numeric values.  And linear regression is the only one of these that you should not use for predicting categories.  Technically sklearn won't stop you from doing most of anything you want, but you probably want to treat cases in the way you found by answering this question!\n"
     ]
    }
   ],
   "source": [
    "# When can you use the model - use each option as many times as necessary\n",
    "a = 'regression'\n",
    "b = 'classification'\n",
    "c = 'both regression and classification'\n",
    "\n",
    "models = {\n",
    "    'decision trees':c, # Letter here,\n",
    "    'random forest': c,# Letter here,\n",
    "    'adaptive boosting':c, # Letter here,\n",
    "    'logistic regression': b,# Letter here,\n",
    "    'linear regression': a# Letter here\n",
    "}\n",
    "\n",
    "#checks your answer, no need to change this code\n",
    "t.q1_check(models)"
   ]
  },
  {
   "cell_type": "markdown",
   "metadata": {},
   "source": [
    "> **步骤 2：**现在，从sklearn库中导入这些在前面找到的可用于回归的模型。"
   ]
  },
  {
   "cell_type": "code",
   "execution_count": 3,
   "metadata": {},
   "outputs": [],
   "source": [
    "# Import models from sklearn - notice you will want to use \n",
    "# the regressor version (not classifier) - googling to find \n",
    "# each of these is what we all do!\n",
    "from sklearn.ensemble import RandomForestRegressor, AdaBoostRegressor\n",
    "from sklearn.linear_model import LinearRegression\n",
    "from sklearn.tree import DecisionTreeRegressor"
   ]
  },
  {
   "cell_type": "markdown",
   "metadata": {},
   "source": [
    "> **步骤 3：**现在，你已经导入了4个可用于回归问题的模型，接下来实例化这些模型。"
   ]
  },
  {
   "cell_type": "code",
   "execution_count": 4,
   "metadata": {},
   "outputs": [],
   "source": [
    "# Instantiate each of the models you imported\n",
    "# For now use the defaults for all the hyperparameters\n",
    "tree_mod = DecisionTreeRegressor()\n",
    "rf_mod = RandomForestRegressor()\n",
    "ada_mod = AdaBoostRegressor()\n",
    "reg_mod = LinearRegression()"
   ]
  },
  {
   "cell_type": "markdown",
   "metadata": {},
   "source": [
    "> **步骤 4：**在训练集数据上拟合你的模型。"
   ]
  },
  {
   "cell_type": "code",
   "execution_count": 5,
   "metadata": {},
   "outputs": [
    {
     "name": "stderr",
     "output_type": "stream",
     "text": [
      "/home/leon/anaconda3/lib/python3.7/site-packages/sklearn/ensemble/forest.py:245: FutureWarning: The default value of n_estimators will change from 10 in version 0.20 to 100 in 0.22.\n",
      "  \"10 in version 0.20 to 100 in 0.22.\", FutureWarning)\n"
     ]
    },
    {
     "data": {
      "text/plain": [
       "LinearRegression(copy_X=True, fit_intercept=True, n_jobs=None, normalize=False)"
      ]
     },
     "execution_count": 5,
     "metadata": {},
     "output_type": "execute_result"
    }
   ],
   "source": [
    "# Fit each of your models using the training data\n",
    "tree_mod.fit(X_train, y_train)\n",
    "rf_mod.fit(X_train, y_train)\n",
    "ada_mod.fit(X_train, y_train)\n",
    "reg_mod.fit(X_train, y_train)"
   ]
  },
  {
   "cell_type": "markdown",
   "metadata": {},
   "source": [
    "> **步骤 5：**使用训练好的模型在测试集数据上做预测。"
   ]
  },
  {
   "cell_type": "code",
   "execution_count": 6,
   "metadata": {},
   "outputs": [],
   "source": [
    "# Predict on the test values for each model\n",
    "preds_tree = tree_mod.predict(X_test) \n",
    "preds_rf = rf_mod.predict(X_test)\n",
    "preds_ada = ada_mod.predict(X_test)\n",
    "preds_reg = reg_mod.predict(X_test)"
   ]
  },
  {
   "cell_type": "markdown",
   "metadata": {},
   "source": [
    "> **步骤 6：**现在来了解与本课相关的信息。请将下面的指标字典中的各项和相应的字母（问题类型标识）进行配对。"
   ]
  },
  {
   "cell_type": "code",
   "execution_count": 7,
   "metadata": {},
   "outputs": [
    {
     "name": "stdout",
     "output_type": "stream",
     "text": [
      "That's right! Looks like you know your metrics!\n"
     ]
    }
   ],
   "source": [
    "# potential model options\n",
    "a = 'regression'\n",
    "b = 'classification'\n",
    "c = 'both regression and classification'\n",
    "\n",
    "#\n",
    "metrics = {\n",
    "    'precision': b,# Letter here,\n",
    "    'recall': b,# Letter here,\n",
    "    'accuracy':b, # Letter here,\n",
    "    'r2_score':a, # Letter here,\n",
    "    'mean_squared_error':a, # Letter here,\n",
    "    'area_under_curve':b, # Letter here, \n",
    "    'mean_absolute_area':a # Letter here \n",
    "}\n",
    "\n",
    "#checks your answer, no need to change this code\n",
    "t.q6_check(metrics)"
   ]
  },
  {
   "cell_type": "markdown",
   "metadata": {},
   "source": [
    "> **步骤 6：**现在，你已经找好了可用于回归问题的指标，从sklearn库中导入它们。"
   ]
  },
  {
   "cell_type": "code",
   "execution_count": 8,
   "metadata": {},
   "outputs": [],
   "source": [
    "# Import the metrics from sklearn\n",
    "from sklearn.metrics import r2_score, mean_squared_error, mean_absolute_error"
   ]
  },
  {
   "cell_type": "markdown",
   "metadata": {},
   "source": [
    "> **步骤 7：**与分类模型练习类似，让我们确保你知道这些指标的计算方法。然后我们可以将该值与sklearn库函数的计算结果做匹配。"
   ]
  },
  {
   "cell_type": "code",
   "execution_count": 9,
   "metadata": {},
   "outputs": [
    {
     "name": "stdout",
     "output_type": "stream",
     "text": [
      "0.7524360632365259\n",
      "0.7524360632365259\n",
      "Since the above match, we can see that we have correctly calculated the r2 value.\n"
     ]
    }
   ],
   "source": [
    "def r2(actual, preds):\n",
    "    '''\n",
    "    INPUT:\n",
    "    actual - numpy array or pd series of actual y values\n",
    "    preds - numpy array or pd series of predicted y values\n",
    "    OUTPUT:\n",
    "    returns the r-squared score as a float\n",
    "    '''\n",
    "    sse = np.sum((actual-preds)**2)\n",
    "    sst = np.sum((actual-np.mean(actual))**2)\n",
    "    return 1 - sse/sst\n",
    "\n",
    "# Check solution matches sklearn\n",
    "print(r2(y_test, preds_tree))\n",
    "print(r2_score(y_test, preds_tree))\n",
    "print(\"Since the above match, we can see that we have correctly calculated the r2 value.\")"
   ]
  },
  {
   "cell_type": "markdown",
   "metadata": {},
   "source": [
    "> **步骤 8：**请填写下面的函数，看看你的结果是否与内置的mean_squared_error函数的结果相同。 "
   ]
  },
  {
   "cell_type": "code",
   "execution_count": 10,
   "metadata": {},
   "outputs": [
    {
     "name": "stdout",
     "output_type": "stream",
     "text": [
      "18.735269461077845\n",
      "18.735269461077845\n",
      "If the above match, you are all set!\n"
     ]
    }
   ],
   "source": [
    "def mse(actual, preds):\n",
    "    '''\n",
    "    INPUT:\n",
    "    actual - numpy array or pd series of actual y values\n",
    "    preds - numpy array or pd series of predicted y values\n",
    "    OUTPUT:\n",
    "    returns the mean squared error as a float\n",
    "    '''\n",
    "    \n",
    "    return np.sum((actual-preds)**2)/len(actual) # calculate mse here\n",
    "\n",
    "\n",
    "# Check your solution matches sklearn\n",
    "print(mse(y_test, preds_tree))\n",
    "print(mean_squared_error(y_test, preds_tree))\n",
    "print(\"If the above match, you are all set!\")"
   ]
  },
  {
   "cell_type": "markdown",
   "metadata": {},
   "source": [
    "> **步骤 9：**现在最后一次 - 完成这个平均绝对误差相关的函数。然后比较你的函数的计算结果与sklearn库的指标函数的结果，确保它们匹配。 "
   ]
  },
  {
   "cell_type": "code",
   "execution_count": 11,
   "metadata": {},
   "outputs": [
    {
     "name": "stdout",
     "output_type": "stream",
     "text": [
      "2.9802395209580834\n",
      "2.9802395209580834\n",
      "If the above match, you are all set!\n"
     ]
    }
   ],
   "source": [
    "def mae(actual, preds):\n",
    "    '''\n",
    "    INPUT:\n",
    "    actual - numpy array or pd series of actual y values\n",
    "    preds - numpy array or pd series of predicted y values\n",
    "    OUTPUT:\n",
    "    returns the mean absolute error as a float\n",
    "    '''\n",
    "    \n",
    "    return np.sum(np.abs(actual-preds))/len(actual) # calculate the mae here\n",
    "\n",
    "# Check your solution matches sklearn\n",
    "print(mae(y_test, preds_tree))\n",
    "print(mean_absolute_error(y_test, preds_tree))\n",
    "print(\"If the above match, you are all set!\")"
   ]
  },
  {
   "cell_type": "markdown",
   "metadata": {},
   "source": [
    "> **步骤 10：**哪个模型在所有指标方面表现的最好？请注意，R2和MSE将始终匹配，但MAE可能会给出不同的最佳模型。请将下面指标字典中的各项和相应的字母（模型标识）进行配对。"
   ]
  },
  {
   "cell_type": "code",
   "execution_count": 12,
   "metadata": {},
   "outputs": [
    {
     "name": "stdout",
     "output_type": "stream",
     "text": [
      "That's right!  The random forest was best in terms of all the metrics this time!\n"
     ]
    }
   ],
   "source": [
    "#match each metric to the model that performed best on it\n",
    "a = 'decision tree'\n",
    "b = 'random forest'\n",
    "c = 'adaptive boosting'\n",
    "d = 'linear regression'\n",
    "\n",
    "\n",
    "best_fit = {\n",
    "    'mse':b, # letter here,\n",
    "    'r2':b, # letter here,\n",
    "    'mae':b # letter here\n",
    "}\n",
    "\n",
    "#Tests your answer - don't change this code\n",
    "t.check_ten(best_fit)"
   ]
  },
  {
   "cell_type": "code",
   "execution_count": 13,
   "metadata": {},
   "outputs": [],
   "source": [
    "# cells for work"
   ]
  },
  {
   "cell_type": "code",
   "execution_count": 14,
   "metadata": {},
   "outputs": [],
   "source": [
    "def print_metrics(y_true, preds, model_name=None):\n",
    "    '''\n",
    "    INPUT:\n",
    "    y_true - the y values that are actually true in the dataset (numpy array or pandas series)\n",
    "    preds - the predictions for those values from some model (numpy array or pandas series)\n",
    "    model_name - (str - optional) a name associated with the model if you would like to add it to the print statements \n",
    "    \n",
    "    OUTPUT:\n",
    "    None - prints the mse, mae, r2\n",
    "    '''\n",
    "    if model_name == None:\n",
    "        print('Mean Squared Error: ', format(mean_squared_error(y_true, preds)))\n",
    "        print('Mean Absolute Error: ', format(mean_absolute_error(y_true, preds)))\n",
    "        print('R2 Score: ', format(r2_score(y_true, preds)))\n",
    "        print('\\n\\n')\n",
    "    \n",
    "    else:\n",
    "        print('Mean Squared Error ' + model_name + ' :' , format(mean_squared_error(y_true, preds)))\n",
    "        print('Mean Absolute Error ' + model_name + ' :', format(mean_absolute_error(y_true, preds)))\n",
    "        print('R2 Score ' + model_name + ' :', format(r2_score(y_true, preds)))\n",
    "        print('\\n\\n')"
   ]
  },
  {
   "cell_type": "code",
   "execution_count": 15,
   "metadata": {},
   "outputs": [
    {
     "name": "stdout",
     "output_type": "stream",
     "text": [
      "Mean Squared Error tree : 18.735269461077845\n",
      "Mean Absolute Error tree : 2.9802395209580834\n",
      "R2 Score tree : 0.7524360632365259\n",
      "\n",
      "\n",
      "\n",
      "Mean Squared Error random forest : 11.220932934131737\n",
      "Mean Absolute Error random forest : 2.271497005988024\n",
      "R2 Score random forest : 0.8517289363196189\n",
      "\n",
      "\n",
      "\n",
      "Mean Squared Error adaboost : 16.817016037852756\n",
      "Mean Absolute Error adaboost : 2.987831262717019\n",
      "R2 Score adaboost : 0.7777834632379077\n",
      "\n",
      "\n",
      "\n",
      "Mean Squared Error linear reg : 20.72402343733974\n",
      "Mean Absolute Error linear reg : 3.1482557548168217\n",
      "R2 Score linear reg : 0.7261570836552478\n",
      "\n",
      "\n",
      "\n"
     ]
    }
   ],
   "source": [
    "# Print Decision Tree scores\n",
    "print_metrics(y_test, preds_tree, 'tree')\n",
    "\n",
    "# Print Random Forest scores\n",
    "print_metrics(y_test, preds_rf, 'random forest')\n",
    "\n",
    "# Print AdaBoost scores\n",
    "print_metrics(y_test, preds_ada, 'adaboost')\n",
    "\n",
    "# Linear Regression scores\n",
    "print_metrics(y_test, preds_reg, 'linear reg')"
   ]
  },
  {
   "cell_type": "code",
   "execution_count": null,
   "metadata": {},
   "outputs": [],
   "source": []
  },
  {
   "cell_type": "code",
   "execution_count": null,
   "metadata": {},
   "outputs": [],
   "source": []
  }
 ],
 "metadata": {
  "kernelspec": {
   "display_name": "Python 3",
   "language": "python",
   "name": "python3"
  },
  "language_info": {
   "codemirror_mode": {
    "name": "ipython",
    "version": 3
   },
   "file_extension": ".py",
   "mimetype": "text/x-python",
   "name": "python",
   "nbconvert_exporter": "python",
   "pygments_lexer": "ipython3",
   "version": "3.7.3"
  }
 },
 "nbformat": 4,
 "nbformat_minor": 2
}
