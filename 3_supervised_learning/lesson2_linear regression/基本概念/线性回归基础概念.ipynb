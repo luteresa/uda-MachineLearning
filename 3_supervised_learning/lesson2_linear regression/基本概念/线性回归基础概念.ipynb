{
 "cells": [
  {
   "cell_type": "markdown",
   "metadata": {},
   "source": [
    "机器学习的两大领域是分类和回归，分类是回答yes or no问题，比如这封邮件是不是垃圾邮件；回归解决的是程度问题(\"how much\" questions)，比如这个房子多少钱，一个视频会被播放多少秒？\n",
    "\n",
    "本课先学习线性回归问题，然后如何优化，最后如何泛化到非线性例子。"
   ]
  },
  {
   "cell_type": "markdown",
   "metadata": {},
   "source": [
    "# 1.用数据拟合直线\n",
    "\n",
    "首先随意初定一条直线\n",
    "\n",
    "![](./lr001.png)\n",
    "\n",
    "观测每个数据点，根据观测值调整直线。"
   ]
  },
  {
   "cell_type": "markdown",
   "metadata": {},
   "source": [
    "# 2 直线移动\n",
    "\n",
    "调整参数w1,w2值，分别调整直线的斜率和y轴截距。\n",
    "\n",
    "![](./lr002.png)\n",
    "\n",
    "# 3 绝对值技巧\n",
    "\n",
    "假如点位于直线上方，可以这样调整直线\n",
    "\n",
    "lr003.png\n",
    "![](./lr003.png)\n",
    "\n",
    "点位于直线下方：\n",
    "\n",
    "lr004.png\n",
    "![](./lr004.png)\n",
    "\n",
    "\n",
    "# 平方技巧\n",
    "\n",
    "lr005.png\n",
    "![](./lr005.png)\n",
    "\n",
    "这种方法，可以忽略掉点在直线下方的情况。\n"
   ]
  },
  {
   "cell_type": "code",
   "execution_count": 1,
   "metadata": {},
   "outputs": [
    {
     "name": "stdout",
     "output_type": "stream",
     "text": [
      "3.88\n"
     ]
    }
   ],
   "source": [
    "#绝对值方法测试\n",
    "v=[[2,-2],[5,6],[-4,-4],[-7,1],[8,14]]\n",
    "m = len(v)\n",
    "sum = 0\n",
    "for item in v:\n",
    "    x,y = item[0],item[1]\n",
    "    \n",
    "    y_hat = 1.2*x + 2\n",
    "    sum += abs(y_hat - y)\n",
    "    \n",
    "print(sum/m)"
   ]
  },
  {
   "cell_type": "code",
   "execution_count": 2,
   "metadata": {},
   "outputs": [
    {
     "name": "stdout",
     "output_type": "stream",
     "text": [
      "10.692000000000002\n"
     ]
    }
   ],
   "source": [
    "#平方方法测试\n",
    "v=[[2,-2],[5,6],[-4,-4],[-7,1],[8,14]]\n",
    "m = len(v)\n",
    "sum = 0\n",
    "for item in v:\n",
    "    x,y = item[0],item[1]\n",
    "    \n",
    "    y_hat = 1.2*x + 2\n",
    "    sum += (y_hat - y)**2\n",
    "    \n",
    "print(sum/(2*m))"
   ]
  },
  {
   "cell_type": "markdown",
   "metadata": {},
   "source": [
    "# 梯度下降法\n",
    "\n",
    "梯度下降的工作方式就像下山，"
   ]
  },
  {
   "cell_type": "markdown",
   "metadata": {},
   "source": [
    "lr014\n",
    "![...](./lr014.png)"
   ]
  },
  {
   "cell_type": "markdown",
   "metadata": {},
   "source": [
    "误差就像这座山，要下山，需要减少高度，下山等价于线性拟合问题，不停的重复寻找下山最快的路(梯度方向)，当到达山底，也找到了最佳拟合线，这就是**梯度下降**。\n",
    "\n",
    "用数学语言描述，下山方法，就是计算误差函数关于每个权重的梯度，梯度方向总是指向误差函数增大(或减小)最多的方向。\n",
    "\n",
    "沿着梯度走一步，表示用原权重$w_i$，减去误差相对于权重$w_i$的梯度。实际上还要用学习速率乘以误差的梯度，来控制步长。\n",
    "\n",
    "这样误差函数不断减小，接近最小值。重复这一过程，就可以得到误差最小或很好的值。\n",
    "![...](./lr015.png)"
   ]
  },
  {
   "cell_type": "markdown",
   "metadata": {},
   "source": [
    "# 平均绝对值误差\n",
    "\n",
    "计算方法：\n",
    "lr006.png\n",
    "![](./lr006.png)"
   ]
  },
  {
   "cell_type": "markdown",
   "metadata": {},
   "source": [
    "用简化的二维图，展示用梯度下降法拟合最佳直线\n",
    "\n",
    "lr008.png\n",
    "![](./lr008.png)"
   ]
  },
  {
   "cell_type": "markdown",
   "metadata": {},
   "source": [
    "# 均方误差\n",
    "计算方法：\n",
    "这里的1/2是为了方便后续导数计算，对收敛过程每任何影响。\n",
    "\n",
    "lr009.png\n",
    "\n",
    "![](./lr009.png)\n",
    "\n",
    "用简化二维图展示，梯度下降法拟合最佳直线\n",
    "\n",
    "lr010.png\n",
    "![](./lr010.png)"
   ]
  },
  {
   "cell_type": "markdown",
   "metadata": {},
   "source": [
    "# 最小化误差函数\n",
    "\n",
    "目前学习了两个算法，用于拟合直线，\n",
    "\n",
    "其一是使用绝对值技巧和平方技巧，\n",
    "\n",
    "其二时最小化任意误差函数，即平均绝对误差和均方误差，\n",
    "\n",
    "其实，这两个方法完全相同：\n",
    "\n",
    "梯度下降法，最小化平均绝对误差与绝对值技巧完全相同；\n",
    "\n",
    "lr011.png\n",
    "![](./lr011.png)\n",
    "\n",
    "梯度下降法，最小化均方误差与平方技巧完全相同；\n",
    "\n",
    "lr012.png\n",
    "![](./lr012.png)\n",
    "\n",
    "\n",
    "以均方误差为例，梯度下降中，最小误差函数分别对斜率$w_1$和y轴截距$w_2$的导数，刚好就是点到直线的垂直距离，和到y轴的距离。这与平方技巧完全相同。\n",
    "lr013.png\n",
    "![](./lr013.png)\n",
    "\n",
    "绝对值误差同理，注意符号问题。"
   ]
  },
  {
   "cell_type": "markdown",
   "metadata": {},
   "source": [
    "## 误差函数求导过程\n",
    "误差定义如下：\n",
    "$$\n",
    "Error = \\frac{1}{2}(y - \\hat{y})^2\n",
    "$$\n",
    "\n",
    "预测函数为:\n",
    "$\\hat{y} = w_1x + w_2$\n",
    "\n",
    "因此，误差函数对$w_1$求导：\n",
    "$$\n",
    "\\frac{\\partial}{\\partial w_1}Error = \\frac{\\partial Error}{\\partial\\hat{y}} \\frac{\\hat{y}}{\\partial w_1} \\\\\n",
    " = -(y - \\hat{y}) w_1\n",
    "$$\n",
    "\n",
    "因此，误差函数对$w_2$求导：\n",
    "$$\n",
    "\\frac{\\partial}{\\partial w_2}Error = \\frac{\\partial Error}{\\partial\\hat{y}} \\frac{\\hat{y}}{\\partial w_2} \\\\\n",
    " = -(y - \\hat{y})\n",
    "$$"
   ]
  },
  {
   "cell_type": "markdown",
   "metadata": {},
   "source": [
    "ps: 均方误差和总平方误差本质是一样，因为误差结果是线性的，选择哪个，只是选择了不同的学习速率。\n",
    "\n",
    "在现实中，我们可以借助算法判断什么样的学习速率合适。"
   ]
  },
  {
   "cell_type": "markdown",
   "metadata": {},
   "source": [
    "# 小批量梯度下降法\n",
    "\n",
    "**随机梯度下降法**：逐个地在每个数据点应用均方（或绝对）误差，并重复这一流程很多次。\n",
    "\n",
    "**批量梯度下降法**：同时在每个数据点应用均方（或绝对）误差，并重复这一流程很多次。\n",
    "lr013.png\n",
    "![](./lr016.png)\n",
    "\n",
    "实际上，在大部分情况下，两种都不适用，思考以下情形：如果你的数据十分庞大，两种方法的计算速度都将会很缓慢。\n",
    "\n",
    "线性回归的最佳方式是将数据拆分成很多小批次。每个批次都大概具有相同数量的数据点。然后使用每个批次更新权重。这种方法叫做**小批次梯度下降法**。\n",
    "\n",
    "使用小批次梯度下降法，特别注意一点，所有数据样本，应该随机采用分批次。\n",
    "\n",
    "lr017.png\n",
    "![](./lr017.png)"
   ]
  },
  {
   "cell_type": "code",
   "execution_count": 3,
   "metadata": {},
   "outputs": [
    {
     "name": "stdout",
     "output_type": "stream",
     "text": [
      "data.type: <class 'numpy.ndarray'> <built-in method reshape of numpy.ndarray object at 0x7f9273ef0bc0>\n",
      "regression_coef: [array([0., 0.])]\n"
     ]
    },
    {
     "data": {
      "image/png": "[encoded data removed]",
      "text/plain": [
       "<Figure size 432x288 with 1 Axes>"
      ]
     },
     "metadata": {
      "needs_background": "light"
     },
     "output_type": "display_data"
    }
   ],
   "source": [
    "import numpy as np\n",
    "%matplotlib inline\n",
    "# Setting a random seed, feel free to change it and see different solutions.\n",
    "np.random.seed(42)\n",
    "\n",
    "\n",
    "# TODO: Fill in code in the function below to implement a gradient descent\n",
    "# step for linear regression, following a squared error rule. See the docstring\n",
    "# for parameters and returned variables.\n",
    "def MSEStep(X, y, W, b, learn_rate = 0.005):\n",
    "    \"\"\"\n",
    "    This function implements the gradient descent step for squared error as a\n",
    "    performance metric.\n",
    "    \n",
    "    Parameters\n",
    "    X : array of predictor features\n",
    "    y : array of outcome values\n",
    "    W : predictor feature coefficients\n",
    "    b : regression function intercept\n",
    "    learn_rate : learning rate\n",
    "\n",
    "    Returns\n",
    "    W_new : predictor feature coefficients following gradient descent step\n",
    "    b_new : intercept following gradient descent step\n",
    "    \"\"\"\n",
    "    \n",
    "    # Fill in code\n",
    "    # compute errors\n",
    "    y_pred = np.matmul(X,W) + b\n",
    "    error = y - y_pred\n",
    "    \n",
    "    # compute steps\n",
    "    W_new = W + learn_rate * np.matmul(error, X)\n",
    "    b_new = b + learn_rate * error.sum()\n",
    "    \n",
    "    return W_new, b_new\n",
    "\n",
    "\n",
    "# The parts of the script below will be run when you press the \"Test Run\"\n",
    "# button. The gradient descent step will be performed multiple times on\n",
    "# the provided dataset, and the returned list of regression coefficients\n",
    "# will be plotted.\n",
    "def miniBatchGD(X, y, batch_size = 20, learn_rate = 0.005, num_iter = 25):\n",
    "    \"\"\"\n",
    "    This function performs mini-batch gradient descent on a given dataset.\n",
    "\n",
    "    Parameters\n",
    "    X : array of predictor features\n",
    "    y : array of outcome values\n",
    "    batch_size : how many data points will be sampled for each iteration\n",
    "    learn_rate : learning rate\n",
    "    num_iter : number of batches used\n",
    "\n",
    "    Returns\n",
    "    regression_coef : array of slopes and intercepts generated by gradient\n",
    "      descent procedure\n",
    "    \"\"\"\n",
    "    n_points = X.shape[0]\n",
    "    W = np.zeros(X.shape[1]) # coefficients\n",
    "    b = 0 # intercept\n",
    "    \n",
    "    # run iterations\n",
    "    regression_coef = [np.hstack((W,b))]\n",
    "    print(\"regression_coef:\",regression_coef)\n",
    "    for _ in range(num_iter):\n",
    "        batch = np.random.choice(range(n_points), batch_size)\n",
    "        X_batch = X[batch,:]\n",
    "        y_batch = y[batch]\n",
    "        W, b = MSEStep(X_batch, y_batch, W, b, learn_rate)\n",
    "        regression_coef.append(np.hstack((W,b)))\n",
    "    \n",
    "    return regression_coef\n",
    "\n",
    "\n",
    "if __name__ == \"__main__\":\n",
    "    # perform gradient descent\n",
    "    data = np.loadtxt('data.csv', delimiter = ',')\n",
    "    print(\"data.type:\",type(data),data.reshape)\n",
    "    X = data[:,:-1]\n",
    "    y = data[:,-1]\n",
    "    regression_coef = miniBatchGD(X, y)\n",
    "    \n",
    "    # plot the results\n",
    "    import matplotlib.pyplot as plt\n",
    "    \n",
    "    plt.figure()\n",
    "    X_min = X.min()\n",
    "    X_max = X.max()\n",
    "    counter = len(regression_coef)\n",
    "    for W, b in regression_coef:\n",
    "        counter -= 1\n",
    "        color = [1 - 0.92 ** counter for _ in range(3)]\n",
    "        #print(color)\n",
    "        plt.plot([X_min, X_max],[X_min * W + b, X_max * W + b], color = color) #color=[0.5, 0.5, 0.5]\n",
    "    plt.scatter(X, y, zorder = 3)\n",
    "    #plt.show()\n",
    "    plt.savefig(\"mini_batch_GD.png\")"
   ]
  },
  {
   "cell_type": "markdown",
   "metadata": {},
   "source": [
    "# 平均绝对值VS均方误差\n",
    "\n",
    "平均绝对值误差和均方误差，到底哪个更好，没有固定答案，比如下面拟合问题\n",
    "\n",
    "lr019.png\n",
    "\n",
    "![](./lr019.png)\n",
    "\n",
    "这里，三根线，绝对值误差时相等的，而均方误差不等。\n",
    "\n",
    "lr020.png\n",
    "![](./lr020.png)\n",
    "\n",
    "图像化观测\n",
    "\n",
    "lr018.png\n",
    "![](./lr018.png)\n"
   ]
  },
  {
   "cell_type": "code",
   "execution_count": 4,
   "metadata": {},
   "outputs": [
    {
     "name": "stdout",
     "output_type": "stream",
     "text": [
      "[[1 2 3]\n",
      " [4 5 6]]\n"
     ]
    }
   ],
   "source": [
    "\n",
    "import numpy as np\n",
    "arr1=np.array([1,2,3])\n",
    "arr2=np.array([4,5,6])\n",
    "print(np.vstack((arr1,arr2)))\n",
    " "
   ]
  },
  {
   "cell_type": "code",
   "execution_count": 5,
   "metadata": {},
   "outputs": [
    {
     "name": "stdout",
     "output_type": "stream",
     "text": [
      "[1 2 3 4 5 6]\n",
      "[[1 2]\n",
      " [3 4]\n",
      " [5 6]]\n",
      "[[ 7  8]\n",
      " [ 9 10]\n",
      " [11 12]]\n"
     ]
    }
   ],
   "source": [
    "print(np.hstack((arr1,arr2)))\n",
    " \n",
    "a1=np.array([[1,2],[3,4],[5,6]])\n",
    "a2=np.array([[7,8],[9,10],[11,12]])\n",
    "print(a1)\n",
    "print(a2)"
   ]
  },
  {
   "cell_type": "code",
   "execution_count": 6,
   "metadata": {},
   "outputs": [
    {
     "data": {
      "text/plain": [
       "array([[4, 1],\n",
       "       [2, 2]])"
      ]
     },
     "execution_count": 6,
     "metadata": {},
     "output_type": "execute_result"
    }
   ],
   "source": [
    "import numpy as np\n",
    "a = [[1, 0], [0, 1]]\n",
    "b = [[4, 1], [2, 2]]\n",
    "np.matmul(a, b)"
   ]
  },
  {
   "cell_type": "code",
   "execution_count": null,
   "metadata": {},
   "outputs": [],
   "source": []
  },
  {
   "cell_type": "code",
   "execution_count": null,
   "metadata": {},
   "outputs": [],
   "source": []
  }
 ],
 "metadata": {
  "kernelspec": {
   "display_name": "Python 3",
   "language": "python",
   "name": "python3"
  },
  "language_info": {
   "codemirror_mode": {
    "name": "ipython",
    "version": 3
   },
   "file_extension": ".py",
   "mimetype": "text/x-python",
   "name": "python",
   "nbconvert_exporter": "python",
   "pygments_lexer": "ipython3",
   "version": "3.7.3"
  }
 },
 "nbformat": 4,
 "nbformat_minor": 2
}
