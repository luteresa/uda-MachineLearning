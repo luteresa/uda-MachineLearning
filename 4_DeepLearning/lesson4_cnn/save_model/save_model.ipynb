{
 "cells": [
  {
   "cell_type": "markdown",
   "metadata": {},
   "source": [
    "https://keras-cn.readthedocs.io/en/latest/other/application/"
   ]
  },
  {
   "cell_type": "code",
   "execution_count": 300,
   "metadata": {},
   "outputs": [
    {
     "ename": "NameError",
     "evalue": "name 'resnet_flower_model' is not defined",
     "output_type": "error",
     "traceback": [
      "\u001b[0;31m---------------------------------------------------------------------------\u001b[0m",
      "\u001b[0;31mNameError\u001b[0m                                 Traceback (most recent call last)",
      "\u001b[0;32m<ipython-input-300-47c58ed35f28>\u001b[0m in \u001b[0;36m<module>\u001b[0;34m\u001b[0m\n\u001b[0;32m----> 1\u001b[0;31m \u001b[0;32mfor\u001b[0m \u001b[0mlayer\u001b[0m \u001b[0;32min\u001b[0m \u001b[0mresnet_flower_model\u001b[0m\u001b[0;34m.\u001b[0m\u001b[0mlayers\u001b[0m\u001b[0;34m[\u001b[0m\u001b[0;34m:\u001b[0m\u001b[0;36m10\u001b[0m\u001b[0;34m]\u001b[0m\u001b[0;34m:\u001b[0m\u001b[0;34m\u001b[0m\u001b[0m\n\u001b[0m\u001b[1;32m      2\u001b[0m     \u001b[0mlayer\u001b[0m\u001b[0;34m.\u001b[0m\u001b[0mtrainable\u001b[0m \u001b[0;34m=\u001b[0m \u001b[0;32mFalse\u001b[0m\u001b[0;34m\u001b[0m\u001b[0m\n",
      "\u001b[0;31mNameError\u001b[0m: name 'resnet_flower_model' is not defined"
     ]
    }
   ],
   "source": [
    "for layer in resnet_flower_model.layers[:10]:\n",
    "    layer.trainable = False"
   ]
  },
  {
   "cell_type": "code",
   "execution_count": 301,
   "metadata": {},
   "outputs": [
    {
     "name": "stdout",
     "output_type": "stream",
     "text": [
      "Requirement already satisfied: pydot in /home/leon/anaconda3/lib/python3.7/site-packages (1.4.1)\r\n",
      "Requirement already satisfied: pyparsing>=2.1.4 in /home/leon/anaconda3/lib/python3.7/site-packages (from pydot) (2.4.5)\r\n"
     ]
    }
   ],
   "source": [
    "!pip install pydot"
   ]
  },
  {
   "cell_type": "code",
   "execution_count": 334,
   "metadata": {},
   "outputs": [
    {
     "name": "stdout",
     "output_type": "stream",
     "text": [
      "(60000, 28, 28)\n",
      "(10000, 28, 28)\n"
     ]
    },
    {
     "data": {
      "image/png": "[encoded data removed]",
      "text/plain": [
       "<Figure size 432x288 with 1 Axes>"
      ]
     },
     "metadata": {
      "needs_background": "light"
     },
     "output_type": "display_data"
    }
   ],
   "source": [
    "from keras.datasets import mnist\n",
    "from keras.preprocessing.image import ImageDataGenerator\n",
    "from matplotlib import pyplot\n",
    "from keras import backend as K\n",
    "\n",
    "#K.set_image_dim_ordering('th')\n",
    "\n",
    "\n",
    "(train_data, train_label), (test_data, test_label) = mnist.load_data()\n",
    "print(train_data.shape)\n",
    "print(test_data.shape)\n",
    "train_data = train_data.reshape(train_data.shape[0], 28, 28,1)\n",
    "train_data = train_data.astype('float32')\n",
    "\n",
    "from keras.utils import to_categorical\n",
    "train_label = to_categorical(train_label)\n",
    "\n",
    "# 创建一个 3*3的九宫格，以显示图片\n",
    "pyplot.subplot(330 + 1)\n",
    "pyplot.imshow(train_data[1].reshape(28, 28), cmap=pyplot.get_cmap('gray'))\n",
    "pyplot.show()\n"
   ]
  },
  {
   "cell_type": "code",
   "execution_count": 335,
   "metadata": {},
   "outputs": [
    {
     "name": "stdout",
     "output_type": "stream",
     "text": [
      "(10000, 28, 28)\n",
      "(10000, 28, 28, 1)\n"
     ]
    }
   ],
   "source": [
    "print(test_data.shape)\n",
    "test_data = test_data.reshape(test_data.shape[0], 28, 28,1)\n",
    "test_data = test_data.astype('float32')\n",
    "test_label = to_categorical(test_label)\n",
    "print(test_data.shape)"
   ]
  },
  {
   "cell_type": "code",
   "execution_count": 336,
   "metadata": {},
   "outputs": [
    {
     "name": "stdout",
     "output_type": "stream",
     "text": [
      "(60000, 28, 28, 1)\n",
      "(60000, 10)\n",
      "60000\n",
      "(10000, 28, 28, 1)\n",
      "(10000, 10)\n",
      "10000\n"
     ]
    }
   ],
   "source": [
    "print(train_data.shape)\n",
    "print(train_label.shape)\n",
    "print(len(train_label))\n",
    "\n",
    "print(test_data.shape)\n",
    "print(test_label.shape)\n",
    "print(len(test_label))"
   ]
  },
  {
   "cell_type": "code",
   "execution_count": 348,
   "metadata": {},
   "outputs": [],
   "source": [
    "# 随机数种子，重复性设置\n",
    "np.random.seed(1689)\n",
    " \n",
    "# 网络结构和训练的参数\n",
    "EPOCH = 20\n",
    "BATCH_SIZE = 128\n",
    "VERBOSE = 1\n",
    "NB_CLASSES = 10\n",
    "OPTIMIZER = 'rmsprop'\n",
    "VALIDATION_SPLIT = 0.2"
   ]
  },
  {
   "cell_type": "code",
   "execution_count": 349,
   "metadata": {},
   "outputs": [
    {
     "name": "stdout",
     "output_type": "stream",
     "text": [
      "Model: \"sequential_22\"\n",
      "_________________________________________________________________\n",
      "Layer (type)                 Output Shape              Param #   \n",
      "=================================================================\n",
      "conv2d_58 (Conv2D)           (None, 26, 26, 32)        320       \n",
      "_________________________________________________________________\n",
      "max_pooling2d_37 (MaxPooling (None, 13, 13, 32)        0         \n",
      "_________________________________________________________________\n",
      "dropout_55 (Dropout)         (None, 13, 13, 32)        0         \n",
      "_________________________________________________________________\n",
      "conv2d_59 (Conv2D)           (None, 11, 11, 64)        18496     \n",
      "_________________________________________________________________\n",
      "max_pooling2d_38 (MaxPooling (None, 5, 5, 64)          0         \n",
      "_________________________________________________________________\n",
      "dropout_56 (Dropout)         (None, 5, 5, 64)          0         \n",
      "_________________________________________________________________\n",
      "conv2d_60 (Conv2D)           (None, 3, 3, 128)         73856     \n",
      "_________________________________________________________________\n",
      "global_average_pooling2d_19  (None, 128)               0         \n",
      "_________________________________________________________________\n",
      "dropout_57 (Dropout)         (None, 128)               0         \n",
      "_________________________________________________________________\n",
      "dense_19 (Dense)             (None, 10)                1290      \n",
      "=================================================================\n",
      "Total params: 93,962\n",
      "Trainable params: 93,962\n",
      "Non-trainable params: 0\n",
      "_________________________________________________________________\n"
     ]
    }
   ],
   "source": [
    "from keras.layers import Conv2D, MaxPooling2D, GlobalAveragePooling2D\n",
    "from keras.layers import Dropout, Flatten, Dense\n",
    "from keras.models import Sequential\n",
    "\n",
    "model = Sequential()\n",
    "\n",
    "### TODO: 定义你的网络架构\n",
    "\n",
    "model.add(Conv2D(filters=32, kernel_size=3, padding='valid', activation='relu', input_shape=(28, 28,1)))\n",
    "#model.add(Conv2D(32, (3,3), input_shape=(160, 160, 3), activation=\"relu\"))\n",
    "model.add(MaxPooling2D(pool_size=2))\n",
    "#model.add(MaxPooling2D(pool_size=(2,2)))\n",
    "model.add(Dropout(0.5))\n",
    "\n",
    "model.add(Conv2D(filters=64, kernel_size=3, padding='valid', activation='relu'))\n",
    "model.add(MaxPooling2D(pool_size=2))\n",
    "\n",
    "model.add(Dropout(0.5))\n",
    "model.add(Conv2D(filters=128, kernel_size=3, padding='valid', activation='relu'))\n",
    "\n",
    "model.add(GlobalAveragePooling2D())\n",
    "\n",
    "model.add(Dropout(0.5))\n",
    "\n",
    "model.add(Dense(NB_CLASSES, activation='softmax'))\n",
    "\n",
    "model.summary()"
   ]
  },
  {
   "cell_type": "code",
   "execution_count": 308,
   "metadata": {},
   "outputs": [
    {
     "name": "stdout",
     "output_type": "stream",
     "text": [
      "Train on 48000 samples, validate on 12000 samples\n",
      "Epoch 1/20\n",
      "48000/48000 [==============================] - 10s 208us/step - loss: 2.7828 - acc: 0.3195 - val_loss: 0.6640 - val_acc: 0.8288\n",
      "Epoch 2/20\n",
      "48000/48000 [==============================] - 10s 198us/step - loss: 0.7846 - acc: 0.7399 - val_loss: 0.2075 - val_acc: 0.9477\n",
      "Epoch 3/20\n",
      "48000/48000 [==============================] - 9s 198us/step - loss: 0.4588 - acc: 0.8555 - val_loss: 0.1247 - val_acc: 0.9689\n",
      "Epoch 4/20\n",
      "48000/48000 [==============================] - 9s 198us/step - loss: 0.3443 - acc: 0.8939 - val_loss: 0.0878 - val_acc: 0.9758\n",
      "Epoch 5/20\n",
      "48000/48000 [==============================] - 9s 198us/step - loss: 0.2817 - acc: 0.9135 - val_loss: 0.0750 - val_acc: 0.9800\n",
      "Epoch 6/20\n",
      "48000/48000 [==============================] - 9s 198us/step - loss: 0.2445 - acc: 0.9257 - val_loss: 0.0634 - val_acc: 0.9832\n",
      "Epoch 7/20\n",
      "48000/48000 [==============================] - 9s 198us/step - loss: 0.2159 - acc: 0.9351 - val_loss: 0.0589 - val_acc: 0.9832\n",
      "Epoch 8/20\n",
      "48000/48000 [==============================] - 9s 198us/step - loss: 0.1949 - acc: 0.9408 - val_loss: 0.0536 - val_acc: 0.9852\n",
      "Epoch 9/20\n",
      "48000/48000 [==============================] - 9s 197us/step - loss: 0.1787 - acc: 0.9466 - val_loss: 0.0538 - val_acc: 0.9849\n",
      "Epoch 10/20\n",
      "48000/48000 [==============================] - 9s 198us/step - loss: 0.1696 - acc: 0.9492 - val_loss: 0.0495 - val_acc: 0.9856\n",
      "Epoch 11/20\n",
      "48000/48000 [==============================] - 9s 198us/step - loss: 0.1536 - acc: 0.9526 - val_loss: 0.0430 - val_acc: 0.9872\n",
      "Epoch 12/20\n",
      "48000/48000 [==============================] - 9s 198us/step - loss: 0.1510 - acc: 0.9538 - val_loss: 0.0416 - val_acc: 0.9872\n",
      "Epoch 13/20\n",
      "48000/48000 [==============================] - 9s 198us/step - loss: 0.1403 - acc: 0.9557 - val_loss: 0.0377 - val_acc: 0.9893\n",
      "Epoch 14/20\n",
      "48000/48000 [==============================] - 9s 197us/step - loss: 0.1344 - acc: 0.9594 - val_loss: 0.0378 - val_acc: 0.9902\n",
      "Epoch 15/20\n",
      "48000/48000 [==============================] - 9s 198us/step - loss: 0.1332 - acc: 0.9609 - val_loss: 0.0362 - val_acc: 0.9904\n",
      "Epoch 16/20\n",
      "48000/48000 [==============================] - 9s 198us/step - loss: 0.1266 - acc: 0.9620 - val_loss: 0.0370 - val_acc: 0.9896\n",
      "Epoch 17/20\n",
      "48000/48000 [==============================] - 10s 198us/step - loss: 0.1274 - acc: 0.9617 - val_loss: 0.0347 - val_acc: 0.9906\n",
      "Epoch 18/20\n",
      "48000/48000 [==============================] - 10s 198us/step - loss: 0.1202 - acc: 0.9635 - val_loss: 0.0366 - val_acc: 0.9892\n",
      "Epoch 19/20\n",
      "48000/48000 [==============================] - 10s 198us/step - loss: 0.1181 - acc: 0.9647 - val_loss: 0.0365 - val_acc: 0.9895\n",
      "Epoch 20/20\n",
      "48000/48000 [==============================] - 9s 198us/step - loss: 0.1141 - acc: 0.9655 - val_loss: 0.0360 - val_acc: 0.9898\n"
     ]
    }
   ],
   "source": [
    "model.compile(loss='categorical_crossentropy', optimizer='adam', metrics=['acc'])\n",
    "history = model.fit(train_data, train_label, batch_size=BATCH_SIZE, epochs=EPOCH, verbose=VERBOSE,validation_split=VALIDATION_SPLIT)"
   ]
  },
  {
   "cell_type": "code",
   "execution_count": 309,
   "metadata": {},
   "outputs": [
    {
     "name": "stdout",
     "output_type": "stream",
     "text": [
      "10000/10000 [==============================] - 1s 78us/step\n",
      "Test score: 0.028671354174159933\n",
      "Test accuracy: 0.991100013256073\n"
     ]
    }
   ],
   "source": [
    "# 评估模型\n",
    "score = model.evaluate(test_data, test_label, verbose=1)\n",
    "print('Test score:', score[0])\n",
    "print('Test accuracy:', score[1])\n"
   ]
  },
  {
   "cell_type": "code",
   "execution_count": 310,
   "metadata": {},
   "outputs": [],
   "source": [
    "from keras.models import Model\n",
    "import matplotlib.pyplot as plt"
   ]
  },
  {
   "cell_type": "code",
   "execution_count": 311,
   "metadata": {},
   "outputs": [
    {
     "name": "stdout",
     "output_type": "stream",
     "text": [
      "dict_keys(['val_loss', 'val_acc', 'loss', 'acc'])\n"
     ]
    },
    {
     "data": {
      "image/png": "[encoded data removed]",
      "text/plain": [
       "<Figure size 432x288 with 1 Axes>"
      ]
     },
     "metadata": {
      "needs_background": "light"
     },
     "output_type": "display_data"
    }
   ],
   "source": [
    "### print the keys contained in the history object\n",
    "print(history.history.keys())\n",
    "\n",
    "### plot the training and validation loss for each epoch\n",
    "plt.plot(history.history['loss'])\n",
    "plt.plot(history.history['val_loss'])\n",
    "plt.title('model mean squared error loss')\n",
    "plt.ylabel('mean squared error loss')\n",
    "plt.xlabel('epoch')\n",
    "plt.legend(['training set', 'validation set'], loc='upper right')\n",
    "plt.show()"
   ]
  },
  {
   "cell_type": "markdown",
   "metadata": {},
   "source": [
    "# 1 完整保存模型所有状态\n",
    "\n",
    "可以使用model.save(filepath)将Keras模型和权重保存在一个HDF5文件中，该文件将包含：\n",
    "\n",
    "模型的结构，以便重构该模型\n",
    "\n",
    "模型的权重\n",
    "\n",
    "训练配置（损失函数，优化器等）\n",
    "\n",
    "优化器的状态，以便于从上次训练中断的地方开始\n",
    "\n",
    "使用keras.models.load_model(filepath)来重新实例化你的模型，如果文件中存储了训练配置的话，该函数还会同时完成模型的编译\n",
    "\n",
    "**优势**：不仅保存了模型结构和参数，也保存了训练配置等信息，可以方便从上次训练中断的地方继续优化；\n",
    "\n",
    "**劣势**：占用空间太大"
   ]
  },
  {
   "cell_type": "code",
   "execution_count": 312,
   "metadata": {},
   "outputs": [],
   "source": [
    "model_all = 'my_model_all.h5'\n",
    "model.save(model_all)"
   ]
  },
  {
   "cell_type": "code",
   "execution_count": 313,
   "metadata": {},
   "outputs": [],
   "source": [
    "# 加载整个模型\n",
    "model_01 = load_model(model_all)\n",
    " \n",
    "# 也可以继续训练模型\n",
    "#history_01 = model_01.fit(train_data, train_label, batch_size=BATCH_SIZE, epochs=EPOCH, verbose=VERBOSE, validation_split=VALIDATION_SPLIT)"
   ]
  },
  {
   "cell_type": "code",
   "execution_count": 314,
   "metadata": {},
   "outputs": [
    {
     "name": "stdout",
     "output_type": "stream",
     "text": [
      "10000/10000 [==============================] - 1s 86us/step\n",
      "Test score: 0.028671354174159933\n",
      "Test accuracy: 0.991100013256073\n"
     ]
    }
   ],
   "source": [
    "# 评估模型\n",
    "score = model_01.evaluate(test_data, test_label, verbose=1)\n",
    "print('Test score:', score[0])\n",
    "print('Test accuracy:', score[1])"
   ]
  },
  {
   "cell_type": "markdown",
   "metadata": {},
   "source": [
    "# 2.分别保存/加载模型结构和权重\n",
    "\n",
    "**优势**:节省硬盘空间，方便同步和协作\n",
    "\n",
    "**劣势**:丢失了训练的一些配置信息 "
   ]
  },
  {
   "cell_type": "code",
   "execution_count": 315,
   "metadata": {},
   "outputs": [],
   "source": [
    "model_save_weights = \"my_model_weights.h5\"\n",
    "# 保存模型权重\n",
    "model.save_weights(model_save_weights)"
   ]
  },
  {
   "cell_type": "code",
   "execution_count": 316,
   "metadata": {},
   "outputs": [
    {
     "name": "stdout",
     "output_type": "stream",
     "text": [
      "10000/10000 [==============================] - 1s 65us/step\n",
      "Test score: 0.028671354174159933\n",
      "Test accuracy: 0.991100013256073\n"
     ]
    }
   ],
   "source": [
    "# 加载模型权重,原model加载参数可以继续训练\n",
    "model.load_weights(model_save_weights)\n",
    "\n",
    "score = model.evaluate(test_data, test_label, verbose=1)\n",
    "print('Test score:', score[0])\n",
    "print('Test accuracy:', score[1])"
   ]
  },
  {
   "cell_type": "markdown",
   "metadata": {},
   "source": [
    "### 方法1：保存为json"
   ]
  },
  {
   "cell_type": "code",
   "execution_count": 317,
   "metadata": {},
   "outputs": [
    {
     "data": {
      "text/plain": [
       "3503"
      ]
     },
     "execution_count": 317,
     "metadata": {},
     "output_type": "execute_result"
    }
   ],
   "source": [
    "json_string = model.to_json()\n",
    "open('my_model_arthitecture.json', 'w').write(json_string)   #重命名"
   ]
  },
  {
   "cell_type": "code",
   "execution_count": 318,
   "metadata": {},
   "outputs": [],
   "source": [
    "#从json中读出数据\n",
    "from keras.models import model_from_json\n",
    "model_02 = model_from_json(json_string)"
   ]
  },
  {
   "cell_type": "code",
   "execution_count": 319,
   "metadata": {},
   "outputs": [],
   "source": [
    "# 加载模型权重,原model加载参数可以继续训练\n",
    "model_02.load_weights(model_save_weights)"
   ]
  },
  {
   "cell_type": "code",
   "execution_count": 320,
   "metadata": {},
   "outputs": [],
   "source": [
    "model_02.compile(optimizer='rmsprop',loss='categorical_crossentropy', metrics=['accuracy'])\n",
    "\n",
    "#history_02 = model_02.fit(train_data, train_label, batch_size=BATCH_SIZE, epochs=EPOCH, verbose=VERBOSE, validation_split=VALIDATION_SPLIT)"
   ]
  },
  {
   "cell_type": "code",
   "execution_count": 321,
   "metadata": {},
   "outputs": [
    {
     "name": "stdout",
     "output_type": "stream",
     "text": [
      "10000/10000 [==============================] - 1s 86us/step\n",
      "Test score: 0.028671354174159933\n",
      "Test accuracy: 0.991100013256073\n"
     ]
    }
   ],
   "source": [
    "score = model_02.evaluate(test_data, test_label, verbose=1)\n",
    "print('Test score:', score[0])\n",
    "print('Test accuracy:', score[1])"
   ]
  },
  {
   "cell_type": "markdown",
   "metadata": {},
   "source": [
    "## 方法2：保存为yaml"
   ]
  },
  {
   "cell_type": "code",
   "execution_count": 322,
   "metadata": {},
   "outputs": [
    {
     "data": {
      "text/plain": [
       "4112"
      ]
     },
     "execution_count": 322,
     "metadata": {},
     "output_type": "execute_result"
    }
   ],
   "source": [
    "yaml_string = model.to_yaml()\n",
    "open('my_model_arthitecture.yaml', 'w').write(yaml_string)  #重命名"
   ]
  },
  {
   "cell_type": "code",
   "execution_count": 323,
   "metadata": {},
   "outputs": [],
   "source": [
    "#从json中读出数据\n",
    "from keras.models import model_from_yaml\n",
    "model_03 = model_from_yaml(yaml_string)\n",
    "\n",
    "# 加载模型权重,原model加载参数可以继续训练\n",
    "model_03.load_weights(model_save_weights)"
   ]
  },
  {
   "cell_type": "code",
   "execution_count": 324,
   "metadata": {},
   "outputs": [],
   "source": [
    "model_03.compile(optimizer='rmsprop',loss='categorical_crossentropy', metrics=['accuracy'])\n",
    "\n",
    "#history_03 = model_03.fit(train_data, train_label, batch_size=BATCH_SIZE, epochs=EPOCH, verbose=VERBOSE, validation_split=VALIDATION_SPLIT)"
   ]
  },
  {
   "cell_type": "code",
   "execution_count": 325,
   "metadata": {},
   "outputs": [
    {
     "name": "stdout",
     "output_type": "stream",
     "text": [
      "10000/10000 [==============================] - 1s 87us/step\n",
      "Test score: 0.028671354174159933\n",
      "Test accuracy: 0.991100013256073\n"
     ]
    }
   ],
   "source": [
    "score = model_03.evaluate(test_data, test_label, verbose=1)\n",
    "print('Test score:', score[0])\n",
    "print('Test accuracy:', score[1])"
   ]
  },
  {
   "cell_type": "markdown",
   "metadata": {},
   "source": [
    "这几种保存模型的联系与区别\n",
    "\n",
    "|方法 \t        |保存模型结构\t|保存模型权重\t|是否能进行模型预测|\n",
    "|--------------------|-------------|-------------|------------------|\n",
    "|model.save()      |是\t      |是        |是|\n",
    "|model.save_weights()|否\t       |是\t      |是|\n",
    "|model.to_json()    |是\t      |否\t      |加载权重，编译后能进行正常预测|\n",
    "model.to_yaml()     |是        |\t否       |加载权重，编译后能进行正常预测|\n",
    "\n",
    "ps:重新加载模型后，可以重新训练；或者加载模型和权重后，在上一次权重基础上继续训练；"
   ]
  },
  {
   "cell_type": "markdown",
   "metadata": {},
   "source": [
    "### compile做什么？\n",
    "\n",
    "compile定义了loss function损失函数、optimizer优化器和metrics度量。它与权重无关，也就是说compile并不会影响权重，不会影响之前训练的问题。"
   ]
  },
  {
   "cell_type": "code",
   "execution_count": 326,
   "metadata": {},
   "outputs": [
    {
     "name": "stdout",
     "output_type": "stream",
     "text": [
      "Requirement already satisfied: pydot-ng in /home/leon/anaconda3/lib/python3.7/site-packages (2.0.0)\r\n",
      "Requirement already satisfied: pyparsing>=2.0.1 in /home/leon/anaconda3/lib/python3.7/site-packages (from pydot-ng) (2.4.5)\r\n"
     ]
    }
   ],
   "source": [
    "!pip install pydot-ng "
   ]
  },
  {
   "cell_type": "markdown",
   "metadata": {},
   "source": [
    "# 保存最佳模型"
   ]
  },
  {
   "cell_type": "code",
   "execution_count": 327,
   "metadata": {},
   "outputs": [],
   "source": [
    "from keras.callbacks import ModelCheckpoint"
   ]
  },
  {
   "cell_type": "markdown",
   "metadata": {},
   "source": [
    "keras.callbacks.ModelCheckpoint(filepath, monitor='val_loss', verbose=0, save_best_only=False, save_weights_only=False, mode='auto', period=1)\n",
    "\n",
    "在每个训练期之后保存模型。"
   ]
  },
  {
   "cell_type": "markdown",
   "metadata": {},
   "source": [
    "filepath 可以包括命名格式选项，可以由 epoch 的值和 logs 的键（由 on_epoch_end 参数传递）来填充。\n",
    "\n",
    "例如：如果 filepath 是 weights.{epoch:02d}-{val_loss:.2f}.hdf5， 那么模型被保存的的文件名就会有训练轮数和验证损失。\n",
    "\n",
    "filepath: 字符串，保存模型的路径。\n",
    "\n",
    "monitor: 被监测的数据。\n",
    "\n",
    "verbose: 详细信息模式，0 或者 1 。\n",
    "\n",
    "save_best_only: 如果 save_best_only=True， 只保存在验证集上性能最好的模型。\n",
    "\n",
    "mode: {auto, min, max} 的其中之一。 如果 save_best_only=True，那么是否覆盖保存文件的决定就取决于被监测数据的最大或者最小值。 \n",
    "\n",
    "对于 val_acc，模式就会是 max，\n",
    "\n",
    "而对于 val_loss，模式就需要是 min，等等。 \n",
    "\n",
    "在 auto 模式中，方向会自动从被监测的数据的名字中判断出来。\n",
    "\n",
    "save_weights_only: 如果 True，那么只有模型的权重会被保存 (model.save_weights(filepath))， 否则的话，整个模型会被保存 (model.save(filepath))。\n",
    "\n",
    "period: 每个CheckPoint之间的间隔（训练轮数）。"
   ]
  },
  {
   "cell_type": "code",
   "execution_count": 350,
   "metadata": {},
   "outputs": [],
   "source": [
    "#from keras.callbacks import Tensorboad\n",
    "from keras.callbacks import ModelCheckpoint\n",
    "\n",
    "filepath='weights.best.hdf5'\n",
    "\n",
    "checkpoint = ModelCheckpoint(filepath, \n",
    "                             monitor='val_acc', \n",
    "                             verbose=1, \n",
    "                             save_best_only=True, \n",
    "                             mode='max',\n",
    "                             period=1)\n",
    "\n",
    "callbacks_list = [checkpoint]\n",
    "\n",
    "model.compile(optimizer='rmsprop',loss='categorical_crossentropy', metrics=['acc'])\n"
   ]
  },
  {
   "cell_type": "code",
   "execution_count": 351,
   "metadata": {},
   "outputs": [
    {
     "name": "stdout",
     "output_type": "stream",
     "text": [
      "Train on 60000 samples, validate on 10000 samples\n",
      "Epoch 1/20\n",
      "60000/60000 [==============================] - 12s 204us/step - loss: 1.3368 - acc: 0.6510 - val_loss: 0.1234 - val_acc: 0.9631\n",
      "\n",
      "Epoch 00001: val_acc improved from -inf to 0.96310, saving model to weights.best.hdf5\n",
      "Epoch 2/20\n",
      "60000/60000 [==============================] - 12s 195us/step - loss: 0.2708 - acc: 0.9161 - val_loss: 0.0583 - val_acc: 0.9808\n",
      "\n",
      "Epoch 00002: val_acc improved from 0.96310 to 0.98080, saving model to weights.best.hdf5\n",
      "Epoch 3/20\n",
      "60000/60000 [==============================] - 12s 195us/step - loss: 0.1952 - acc: 0.9413 - val_loss: 0.0549 - val_acc: 0.9828\n",
      "\n",
      "Epoch 00003: val_acc improved from 0.98080 to 0.98280, saving model to weights.best.hdf5\n",
      "Epoch 4/20\n",
      "60000/60000 [==============================] - 12s 195us/step - loss: 0.1671 - acc: 0.9511 - val_loss: 0.0403 - val_acc: 0.9868\n",
      "\n",
      "Epoch 00004: val_acc improved from 0.98280 to 0.98680, saving model to weights.best.hdf5\n",
      "Epoch 5/20\n",
      "60000/60000 [==============================] - 12s 195us/step - loss: 0.1490 - acc: 0.9550 - val_loss: 0.0379 - val_acc: 0.9886\n",
      "\n",
      "Epoch 00005: val_acc improved from 0.98680 to 0.98860, saving model to weights.best.hdf5\n",
      "Epoch 6/20\n",
      "60000/60000 [==============================] - 12s 195us/step - loss: 0.1370 - acc: 0.9592 - val_loss: 0.0348 - val_acc: 0.9897\n",
      "\n",
      "Epoch 00006: val_acc improved from 0.98860 to 0.98970, saving model to weights.best.hdf5\n",
      "Epoch 7/20\n",
      "60000/60000 [==============================] - 12s 195us/step - loss: 0.1299 - acc: 0.9625 - val_loss: 0.0340 - val_acc: 0.9892\n",
      "\n",
      "Epoch 00007: val_acc did not improve from 0.98970\n",
      "Epoch 8/20\n",
      "60000/60000 [==============================] - 12s 195us/step - loss: 0.1243 - acc: 0.9635 - val_loss: 0.0357 - val_acc: 0.9897\n",
      "\n",
      "Epoch 00008: val_acc did not improve from 0.98970\n",
      "Epoch 9/20\n",
      "60000/60000 [==============================] - 12s 195us/step - loss: 0.1214 - acc: 0.9644 - val_loss: 0.0315 - val_acc: 0.9901\n",
      "\n",
      "Epoch 00009: val_acc improved from 0.98970 to 0.99010, saving model to weights.best.hdf5\n",
      "Epoch 10/20\n",
      "60000/60000 [==============================] - 12s 195us/step - loss: 0.1175 - acc: 0.9645 - val_loss: 0.0309 - val_acc: 0.9906\n",
      "\n",
      "Epoch 00010: val_acc improved from 0.99010 to 0.99060, saving model to weights.best.hdf5\n",
      "Epoch 11/20\n",
      "60000/60000 [==============================] - 12s 195us/step - loss: 0.1169 - acc: 0.9646 - val_loss: 0.0339 - val_acc: 0.9902\n",
      "\n",
      "Epoch 00011: val_acc did not improve from 0.99060\n",
      "Epoch 12/20\n",
      "60000/60000 [==============================] - 12s 195us/step - loss: 0.1156 - acc: 0.9663 - val_loss: 0.0338 - val_acc: 0.9894\n",
      "\n",
      "Epoch 00012: val_acc did not improve from 0.99060\n",
      "Epoch 13/20\n",
      "60000/60000 [==============================] - 12s 194us/step - loss: 0.1125 - acc: 0.9665 - val_loss: 0.0334 - val_acc: 0.9901\n",
      "\n",
      "Epoch 00013: val_acc did not improve from 0.99060\n",
      "Epoch 14/20\n",
      "60000/60000 [==============================] - 12s 195us/step - loss: 0.1121 - acc: 0.9678 - val_loss: 0.0298 - val_acc: 0.9911\n",
      "\n",
      "Epoch 00014: val_acc improved from 0.99060 to 0.99110, saving model to weights.best.hdf5\n",
      "Epoch 15/20\n",
      "60000/60000 [==============================] - 12s 194us/step - loss: 0.1087 - acc: 0.9682 - val_loss: 0.0316 - val_acc: 0.9907\n",
      "\n",
      "Epoch 00015: val_acc did not improve from 0.99110\n",
      "Epoch 16/20\n",
      "60000/60000 [==============================] - 12s 195us/step - loss: 0.1070 - acc: 0.9692 - val_loss: 0.0301 - val_acc: 0.9901\n",
      "\n",
      "Epoch 00016: val_acc did not improve from 0.99110\n",
      "Epoch 17/20\n",
      "60000/60000 [==============================] - 12s 194us/step - loss: 0.1090 - acc: 0.9677 - val_loss: 0.0295 - val_acc: 0.9908\n",
      "\n",
      "Epoch 00017: val_acc did not improve from 0.99110\n",
      "Epoch 18/20\n",
      "60000/60000 [==============================] - 12s 195us/step - loss: 0.1101 - acc: 0.9677 - val_loss: 0.0286 - val_acc: 0.9916\n",
      "\n",
      "Epoch 00018: val_acc improved from 0.99110 to 0.99160, saving model to weights.best.hdf5\n",
      "Epoch 19/20\n",
      "60000/60000 [==============================] - 12s 195us/step - loss: 0.1075 - acc: 0.9693 - val_loss: 0.0313 - val_acc: 0.9896\n",
      "\n",
      "Epoch 00019: val_acc did not improve from 0.99160\n",
      "Epoch 20/20\n",
      "60000/60000 [==============================] - 12s 195us/step - loss: 0.1064 - acc: 0.9693 - val_loss: 0.0313 - val_acc: 0.9913\n",
      "\n",
      "Epoch 00020: val_acc did not improve from 0.99160\n"
     ]
    }
   ],
   "source": [
    "history_04 = model.fit(train_data, train_label,validation_data=(test_data, test_label), batch_size=BATCH_SIZE, epochs=EPOCH,validation_split=VALIDATION_SPLIT,callbacks=callbacks_list)"
   ]
  },
  {
   "cell_type": "code",
   "execution_count": 352,
   "metadata": {},
   "outputs": [
    {
     "name": "stdout",
     "output_type": "stream",
     "text": [
      "dict_keys(['val_loss', 'val_acc', 'loss', 'acc'])\n"
     ]
    },
    {
     "data": {
      "image/png": "[encoded data removed]",
      "text/plain": [
       "<Figure size 432x288 with 1 Axes>"
      ]
     },
     "metadata": {
      "needs_background": "light"
     },
     "output_type": "display_data"
    }
   ],
   "source": [
    "### print the keys contained in the history object\n",
    "print(history_04.history.keys())\n",
    "\n",
    "### plot the training and validation loss for each epoch\n",
    "plt.plot(history_05.history['loss'])\n",
    "plt.plot(history_05.history['val_loss'])\n",
    "plt.title('model mean squared error loss')\n",
    "plt.ylabel('mean squared error loss')\n",
    "plt.xlabel('epoch')\n",
    "plt.legend(['training set', 'validation set'], loc='upper right')\n",
    "plt.show()"
   ]
  },
  {
   "cell_type": "code",
   "execution_count": 345,
   "metadata": {},
   "outputs": [],
   "source": [
    "from keras.callbacks import ModelCheckpoint\n",
    " \n",
    "# checkpoint\n",
    "filepath = \"weights-improvement-{epoch:02d}-{val_acc:.3f}.hdf5\"\n",
    "\n",
    "# 中途训练效果提升, 则将文件保存, 每提升一次, 保存一次\n",
    "checkpoint = ModelCheckpoint(filepath, monitor='val_acc', verbose=1, save_best_only=True,mode='max')\n",
    "callbacks_list = [checkpoint]\n",
    "\n",
    "model.compile(loss='categorical_crossentropy', optimizer='adam', metrics=['acc'])"
   ]
  },
  {
   "cell_type": "code",
   "execution_count": 346,
   "metadata": {},
   "outputs": [
    {
     "name": "stdout",
     "output_type": "stream",
     "text": [
      "Train on 60000 samples, validate on 10000 samples\n",
      "Epoch 1/20\n",
      "60000/60000 [==============================] - 12s 205us/step - loss: 1.9712 - acc: 0.4447 - val_loss: 0.3115 - val_acc: 0.9287\n",
      "\n",
      "Epoch 00001: val_acc improved from -inf to 0.92870, saving model to weights-improvement-01-0.929.hdf5\n",
      "Epoch 2/20\n",
      "60000/60000 [==============================] - 12s 195us/step - loss: 0.5117 - acc: 0.8366 - val_loss: 0.1148 - val_acc: 0.9692\n",
      "\n",
      "Epoch 00002: val_acc improved from 0.92870 to 0.96920, saving model to weights-improvement-02-0.969.hdf5\n",
      "Epoch 3/20\n",
      "60000/60000 [==============================] - 12s 195us/step - loss: 0.3155 - acc: 0.9015 - val_loss: 0.0774 - val_acc: 0.9788\n",
      "\n",
      "Epoch 00003: val_acc improved from 0.96920 to 0.97880, saving model to weights-improvement-03-0.979.hdf5\n",
      "Epoch 4/20\n",
      "60000/60000 [==============================] - 12s 195us/step - loss: 0.2386 - acc: 0.9262 - val_loss: 0.0630 - val_acc: 0.9823\n",
      "\n",
      "Epoch 00004: val_acc improved from 0.97880 to 0.98230, saving model to weights-improvement-04-0.982.hdf5\n",
      "Epoch 5/20\n",
      "60000/60000 [==============================] - 12s 195us/step - loss: 0.2027 - acc: 0.9388 - val_loss: 0.0511 - val_acc: 0.9851\n",
      "\n",
      "Epoch 00005: val_acc improved from 0.98230 to 0.98510, saving model to weights-improvement-05-0.985.hdf5\n",
      "Epoch 6/20\n",
      "60000/60000 [==============================] - 12s 195us/step - loss: 0.1738 - acc: 0.9466 - val_loss: 0.0454 - val_acc: 0.9863\n",
      "\n",
      "Epoch 00006: val_acc improved from 0.98510 to 0.98630, saving model to weights-improvement-06-0.986.hdf5\n",
      "Epoch 7/20\n",
      "60000/60000 [==============================] - 12s 195us/step - loss: 0.1574 - acc: 0.9527 - val_loss: 0.0422 - val_acc: 0.9876\n",
      "\n",
      "Epoch 00007: val_acc improved from 0.98630 to 0.98760, saving model to weights-improvement-07-0.988.hdf5\n",
      "Epoch 8/20\n",
      "60000/60000 [==============================] - 12s 195us/step - loss: 0.1479 - acc: 0.9560 - val_loss: 0.0389 - val_acc: 0.9878\n",
      "\n",
      "Epoch 00008: val_acc improved from 0.98760 to 0.98780, saving model to weights-improvement-08-0.988.hdf5\n",
      "Epoch 9/20\n",
      "60000/60000 [==============================] - 12s 195us/step - loss: 0.1438 - acc: 0.9574 - val_loss: 0.0378 - val_acc: 0.9895\n",
      "\n",
      "Epoch 00009: val_acc improved from 0.98780 to 0.98950, saving model to weights-improvement-09-0.989.hdf5\n",
      "Epoch 10/20\n",
      "60000/60000 [==============================] - 12s 195us/step - loss: 0.1294 - acc: 0.9598 - val_loss: 0.0348 - val_acc: 0.9897\n",
      "\n",
      "Epoch 00010: val_acc improved from 0.98950 to 0.98970, saving model to weights-improvement-10-0.990.hdf5\n",
      "Epoch 11/20\n",
      "60000/60000 [==============================] - 12s 195us/step - loss: 0.1294 - acc: 0.9611 - val_loss: 0.0344 - val_acc: 0.9885\n",
      "\n",
      "Epoch 00011: val_acc did not improve from 0.98970\n",
      "Epoch 12/20\n",
      "60000/60000 [==============================] - 12s 195us/step - loss: 0.1176 - acc: 0.9644 - val_loss: 0.0331 - val_acc: 0.9898\n",
      "\n",
      "Epoch 00012: val_acc improved from 0.98970 to 0.98980, saving model to weights-improvement-12-0.990.hdf5\n",
      "Epoch 13/20\n",
      "60000/60000 [==============================] - 12s 195us/step - loss: 0.1196 - acc: 0.9647 - val_loss: 0.0312 - val_acc: 0.9895\n",
      "\n",
      "Epoch 00013: val_acc did not improve from 0.98980\n",
      "Epoch 14/20\n",
      "60000/60000 [==============================] - 12s 195us/step - loss: 0.1113 - acc: 0.9659 - val_loss: 0.0300 - val_acc: 0.9898\n",
      "\n",
      "Epoch 00014: val_acc did not improve from 0.98980\n",
      "Epoch 15/20\n",
      "60000/60000 [==============================] - 12s 196us/step - loss: 0.1093 - acc: 0.9665 - val_loss: 0.0294 - val_acc: 0.9910\n",
      "\n",
      "Epoch 00015: val_acc improved from 0.98980 to 0.99100, saving model to weights-improvement-15-0.991.hdf5\n",
      "Epoch 16/20\n",
      "60000/60000 [==============================] - 12s 196us/step - loss: 0.1054 - acc: 0.9682 - val_loss: 0.0293 - val_acc: 0.9909\n",
      "\n",
      "Epoch 00016: val_acc did not improve from 0.99100\n",
      "Epoch 17/20\n",
      "60000/60000 [==============================] - 12s 195us/step - loss: 0.1039 - acc: 0.9687 - val_loss: 0.0286 - val_acc: 0.9913\n",
      "\n",
      "Epoch 00017: val_acc improved from 0.99100 to 0.99130, saving model to weights-improvement-17-0.991.hdf5\n",
      "Epoch 18/20\n",
      "60000/60000 [==============================] - 12s 196us/step - loss: 0.1041 - acc: 0.9690 - val_loss: 0.0277 - val_acc: 0.9913\n",
      "\n",
      "Epoch 00018: val_acc did not improve from 0.99130\n",
      "Epoch 19/20\n",
      "60000/60000 [==============================] - 12s 196us/step - loss: 0.1014 - acc: 0.9696 - val_loss: 0.0274 - val_acc: 0.9910\n",
      "\n",
      "Epoch 00019: val_acc did not improve from 0.99130\n",
      "Epoch 20/20\n",
      "60000/60000 [==============================] - 12s 196us/step - loss: 0.0958 - acc: 0.9702 - val_loss: 0.0279 - val_acc: 0.9918\n",
      "\n",
      "Epoch 00020: val_acc improved from 0.99130 to 0.99180, saving model to weights-improvement-20-0.992.hdf5\n"
     ]
    }
   ],
   "source": [
    "history_05 = model.fit(train_data, train_label,validation_data=(test_data, test_label),\n",
    "                       batch_size=BATCH_SIZE, \n",
    "                       epochs=EPOCH,\n",
    "                       validation_split=VALIDATION_SPLIT,\n",
    "                       callbacks=callbacks_list)"
   ]
  },
  {
   "cell_type": "code",
   "execution_count": 347,
   "metadata": {},
   "outputs": [
    {
     "name": "stdout",
     "output_type": "stream",
     "text": [
      "dict_keys(['val_loss', 'val_acc', 'loss', 'acc'])\n"
     ]
    },
    {
     "data": {
      "image/png": "[encoded data removed]",
      "text/plain": [
       "<Figure size 432x288 with 1 Axes>"
      ]
     },
     "metadata": {
      "needs_background": "light"
     },
     "output_type": "display_data"
    }
   ],
   "source": [
    "### print the keys contained in the history object\n",
    "print(history_05.history.keys())\n",
    "\n",
    "### plot the training and validation loss for each epoch\n",
    "plt.plot(history_05.history['loss'])\n",
    "plt.plot(history_05.history['val_loss'])\n",
    "plt.title('model mean squared error loss')\n",
    "plt.ylabel('mean squared error loss')\n",
    "plt.xlabel('epoch')\n",
    "plt.legend(['training set', 'validation set'], loc='upper right')\n",
    "plt.show()"
   ]
  },
  {
   "cell_type": "code",
   "execution_count": null,
   "metadata": {},
   "outputs": [],
   "source": []
  }
 ],
 "metadata": {
  "kernelspec": {
   "display_name": "Python 3",
   "language": "python",
   "name": "python3"
  },
  "language_info": {
   "codemirror_mode": {
    "name": "ipython",
    "version": 3
   },
   "file_extension": ".py",
   "mimetype": "text/x-python",
   "name": "python",
   "nbconvert_exporter": "python",
   "pygments_lexer": "ipython3",
   "version": "3.7.0"
  }
 },
 "nbformat": 4,
 "nbformat_minor": 2
}
