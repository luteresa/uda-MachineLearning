{
 "cells": [
  {
   "cell_type": "markdown",
   "metadata": {},
   "source": [
    "https://keras-cn.readthedocs.io/en/latest/other/application/"
   ]
  },
  {
   "cell_type": "code",
   "execution_count": 56,
   "metadata": {},
   "outputs": [],
   "source": [
    "for layer in resnet_flower_model.layers[:10]:\n",
    "    layer.trainable = False"
   ]
  },
  {
   "cell_type": "code",
   "execution_count": 177,
   "metadata": {},
   "outputs": [
    {
     "name": "stdout",
     "output_type": "stream",
     "text": [
      "Requirement already satisfied: pydot in /home/leon/anaconda3/lib/python3.7/site-packages (1.4.1)\n",
      "Requirement already satisfied: pyparsing>=2.1.4 in /home/leon/anaconda3/lib/python3.7/site-packages (from pydot) (2.4.5)\n"
     ]
    }
   ],
   "source": [
    "!pip install pydot"
   ]
  },
  {
   "cell_type": "code",
   "execution_count": 201,
   "metadata": {},
   "outputs": [
    {
     "name": "stdout",
     "output_type": "stream",
     "text": [
      "(60000, 28, 28)\n",
      "(10000, 28, 28)\n"
     ]
    },
    {
     "data": {
      "image/png": "[encoded data removed]",
      "text/plain": [
       "<Figure size 432x288 with 1 Axes>"
      ]
     },
     "metadata": {
      "needs_background": "light"
     },
     "output_type": "display_data"
    }
   ],
   "source": [
    "from keras.datasets import mnist\n",
    "from keras.preprocessing.image import ImageDataGenerator\n",
    "from matplotlib import pyplot\n",
    "from keras import backend as K\n",
    "\n",
    "#K.set_image_dim_ordering('th')\n",
    "\n",
    "\n",
    "(train_data, train_label), (test_data, test_label) = mnist.load_data()\n",
    "print(train_data.shape)\n",
    "print(test_data.shape)\n",
    "train_data = train_data.reshape(train_data.shape[0], 28, 28,1)\n",
    "train_data = train_data.astype('float32')\n",
    "\n",
    "from keras.utils import to_categorical\n",
    "train_label = to_categorical(train_label)\n",
    "\n",
    "# 创建一个 3*3的九宫格，以显示图片\n",
    "pyplot.subplot(330 + 1)\n",
    "pyplot.imshow(train_data[1].reshape(28, 28), cmap=pyplot.get_cmap('gray'))\n",
    "pyplot.show()\n"
   ]
  },
  {
   "cell_type": "code",
   "execution_count": 202,
   "metadata": {},
   "outputs": [
    {
     "name": "stdout",
     "output_type": "stream",
     "text": [
      "(10000, 28, 28)\n",
      "(10000, 28, 28, 1)\n"
     ]
    }
   ],
   "source": [
    "print(test_data.shape)\n",
    "test_data = test_data.reshape(test_data.shape[0], 28, 28,1)\n",
    "test_data = test_data.astype('float32')\n",
    "test_label = to_categorical(test_label)\n",
    "print(test_data.shape)"
   ]
  },
  {
   "cell_type": "code",
   "execution_count": 203,
   "metadata": {},
   "outputs": [
    {
     "name": "stdout",
     "output_type": "stream",
     "text": [
      "(60000, 28, 28, 1)\n",
      "(60000, 10)\n",
      "60000\n",
      "(10000, 28, 28, 1)\n",
      "(10000, 10)\n",
      "10000\n"
     ]
    }
   ],
   "source": [
    "print(train_data.shape)\n",
    "print(train_label.shape)\n",
    "print(len(train_label))\n",
    "\n",
    "print(test_data.shape)\n",
    "print(test_label.shape)\n",
    "print(len(test_label))"
   ]
  },
  {
   "cell_type": "code",
   "execution_count": 204,
   "metadata": {},
   "outputs": [],
   "source": [
    "# 随机数种子，重复性设置\n",
    "np.random.seed(1671)\n",
    " \n",
    "# 网络结构和训练的参数\n",
    "EPOCH = 20\n",
    "BATCH_SIZE = 128\n",
    "VERBOSE = 1\n",
    "NB_CLASSES = 10\n",
    "OPTIMIZER = 'rmsprop'\n",
    "VALIDATION_SPLIT = 0.2"
   ]
  },
  {
   "cell_type": "code",
   "execution_count": 205,
   "metadata": {},
   "outputs": [
    {
     "name": "stdout",
     "output_type": "stream",
     "text": [
      "Model: \"sequential_16\"\n",
      "_________________________________________________________________\n",
      "Layer (type)                 Output Shape              Param #   \n",
      "=================================================================\n",
      "conv2d_40 (Conv2D)           (None, 26, 26, 32)        320       \n",
      "_________________________________________________________________\n",
      "max_pooling2d_25 (MaxPooling (None, 13, 13, 32)        0         \n",
      "_________________________________________________________________\n",
      "dropout_37 (Dropout)         (None, 13, 13, 32)        0         \n",
      "_________________________________________________________________\n",
      "conv2d_41 (Conv2D)           (None, 11, 11, 64)        18496     \n",
      "_________________________________________________________________\n",
      "max_pooling2d_26 (MaxPooling (None, 5, 5, 64)          0         \n",
      "_________________________________________________________________\n",
      "dropout_38 (Dropout)         (None, 5, 5, 64)          0         \n",
      "_________________________________________________________________\n",
      "conv2d_42 (Conv2D)           (None, 3, 3, 128)         73856     \n",
      "_________________________________________________________________\n",
      "global_average_pooling2d_13  (None, 128)               0         \n",
      "_________________________________________________________________\n",
      "dropout_39 (Dropout)         (None, 128)               0         \n",
      "_________________________________________________________________\n",
      "dense_13 (Dense)             (None, 10)                1290      \n",
      "=================================================================\n",
      "Total params: 93,962\n",
      "Trainable params: 93,962\n",
      "Non-trainable params: 0\n",
      "_________________________________________________________________\n"
     ]
    }
   ],
   "source": [
    "from keras.layers import Conv2D, MaxPooling2D, GlobalAveragePooling2D\n",
    "from keras.layers import Dropout, Flatten, Dense\n",
    "from keras.models import Sequential\n",
    "\n",
    "model = Sequential()\n",
    "\n",
    "### TODO: 定义你的网络架构\n",
    "\n",
    "model.add(Conv2D(filters=32, kernel_size=3, padding='valid', activation='relu', input_shape=(28, 28,1)))\n",
    "#model.add(Conv2D(32, (3,3), input_shape=(160, 160, 3), activation=\"relu\"))\n",
    "model.add(MaxPooling2D(pool_size=2))\n",
    "#model.add(MaxPooling2D(pool_size=(2,2)))\n",
    "model.add(Dropout(0.5))\n",
    "\n",
    "model.add(Conv2D(filters=64, kernel_size=3, padding='valid', activation='relu'))\n",
    "model.add(MaxPooling2D(pool_size=2))\n",
    "\n",
    "model.add(Dropout(0.5))\n",
    "model.add(Conv2D(filters=128, kernel_size=3, padding='valid', activation='relu'))\n",
    "\n",
    "model.add(GlobalAveragePooling2D())\n",
    "\n",
    "model.add(Dropout(0.5))\n",
    "\n",
    "model.add(Dense(NB_CLASSES, activation='softmax'))\n",
    "\n",
    "model.summary()"
   ]
  },
  {
   "cell_type": "code",
   "execution_count": 237,
   "metadata": {},
   "outputs": [],
   "source": [
    "from keras.callbacks import ModelCheckpoint   \n",
    "\n",
    "# train the model\n",
    "checkpointer = ModelCheckpoint(filepath='minist.weights.best.hdf5', verbose=1, \n",
    "                               save_best_only=True)\n",
    "\n",
    "model.compile(optimizer='rmsprop',loss='categorical_crossentropy', metrics=['accuracy'])"
   ]
  },
  {
   "cell_type": "code",
   "execution_count": 238,
   "metadata": {},
   "outputs": [
    {
     "name": "stdout",
     "output_type": "stream",
     "text": [
      "Train on 48000 samples, validate on 12000 samples\n",
      "Epoch 1/20\n",
      "48000/48000 [==============================] - 10s 202us/step - loss: 2.1190 - accuracy: 0.5741 - val_loss: 0.1634 - val_accuracy: 0.9594\n",
      "Epoch 2/20\n",
      "48000/48000 [==============================] - 9s 195us/step - loss: 0.3301 - accuracy: 0.8969 - val_loss: 0.0818 - val_accuracy: 0.9753\n",
      "Epoch 3/20\n",
      "48000/48000 [==============================] - 9s 195us/step - loss: 0.2235 - accuracy: 0.9326 - val_loss: 0.0627 - val_accuracy: 0.9817\n",
      "Epoch 4/20\n",
      "48000/48000 [==============================] - 9s 195us/step - loss: 0.1822 - accuracy: 0.9452 - val_loss: 0.0540 - val_accuracy: 0.9837\n",
      "Epoch 5/20\n",
      "48000/48000 [==============================] - 9s 195us/step - loss: 0.1636 - accuracy: 0.9508 - val_loss: 0.0483 - val_accuracy: 0.9868\n",
      "Epoch 6/20\n",
      "48000/48000 [==============================] - 9s 195us/step - loss: 0.1483 - accuracy: 0.9553 - val_loss: 0.0487 - val_accuracy: 0.9862\n",
      "Epoch 7/20\n",
      "48000/48000 [==============================] - 9s 195us/step - loss: 0.1398 - accuracy: 0.9582 - val_loss: 0.0418 - val_accuracy: 0.9883\n",
      "Epoch 8/20\n",
      "48000/48000 [==============================] - 9s 195us/step - loss: 0.1332 - accuracy: 0.9601 - val_loss: 0.0405 - val_accuracy: 0.9883\n",
      "Epoch 9/20\n",
      "48000/48000 [==============================] - 9s 195us/step - loss: 0.1309 - accuracy: 0.9614 - val_loss: 0.0346 - val_accuracy: 0.9903\n",
      "Epoch 10/20\n",
      "48000/48000 [==============================] - 9s 195us/step - loss: 0.1263 - accuracy: 0.9622 - val_loss: 0.0397 - val_accuracy: 0.9894\n",
      "Epoch 11/20\n",
      "48000/48000 [==============================] - 9s 195us/step - loss: 0.1215 - accuracy: 0.9650 - val_loss: 0.0406 - val_accuracy: 0.9898\n",
      "Epoch 12/20\n",
      "48000/48000 [==============================] - 9s 195us/step - loss: 0.1212 - accuracy: 0.9639 - val_loss: 0.0367 - val_accuracy: 0.9898\n",
      "Epoch 13/20\n",
      "48000/48000 [==============================] - 9s 195us/step - loss: 0.1142 - accuracy: 0.9661 - val_loss: 0.0346 - val_accuracy: 0.9907\n",
      "Epoch 14/20\n",
      "48000/48000 [==============================] - 9s 195us/step - loss: 0.1163 - accuracy: 0.9651 - val_loss: 0.0335 - val_accuracy: 0.9906\n",
      "Epoch 15/20\n",
      "48000/48000 [==============================] - 9s 195us/step - loss: 0.1145 - accuracy: 0.9658 - val_loss: 0.0357 - val_accuracy: 0.9892\n",
      "Epoch 16/20\n",
      "48000/48000 [==============================] - 9s 195us/step - loss: 0.1116 - accuracy: 0.9667 - val_loss: 0.0335 - val_accuracy: 0.9907\n",
      "Epoch 17/20\n",
      "48000/48000 [==============================] - 9s 195us/step - loss: 0.1076 - accuracy: 0.9670 - val_loss: 0.0366 - val_accuracy: 0.9893\n",
      "Epoch 18/20\n",
      "48000/48000 [==============================] - 9s 195us/step - loss: 0.1088 - accuracy: 0.9683 - val_loss: 0.0381 - val_accuracy: 0.9898\n",
      "Epoch 19/20\n",
      "48000/48000 [==============================] - 9s 195us/step - loss: 0.1101 - accuracy: 0.9679 - val_loss: 0.0352 - val_accuracy: 0.9902\n",
      "Epoch 20/20\n",
      "48000/48000 [==============================] - 9s 195us/step - loss: 0.1129 - accuracy: 0.9675 - val_loss: 0.0321 - val_accuracy: 0.9912\n"
     ]
    }
   ],
   "source": [
    "history = model.fit(train_data, train_label, batch_size=BATCH_SIZE, epochs=EPOCH, verbose=VERBOSE,validation_split=VALIDATION_SPLIT)"
   ]
  },
  {
   "cell_type": "code",
   "execution_count": 239,
   "metadata": {},
   "outputs": [
    {
     "name": "stdout",
     "output_type": "stream",
     "text": [
      "10000/10000 [==============================] - 1s 58us/step\n",
      "Test score: 0.026589964021544437\n",
      "Test accuracy: 0.9912999868392944\n"
     ]
    }
   ],
   "source": [
    "# 评估模型\n",
    "score = model.evaluate(test_data, test_label, verbose=1)\n",
    "print('Test score:', score[0])\n",
    "print('Test accuracy:', score[1])\n"
   ]
  },
  {
   "cell_type": "code",
   "execution_count": 283,
   "metadata": {},
   "outputs": [],
   "source": [
    "from keras.models import Model\n",
    "import matplotlib.pyplot as plt"
   ]
  },
  {
   "cell_type": "code",
   "execution_count": 284,
   "metadata": {},
   "outputs": [
    {
     "name": "stdout",
     "output_type": "stream",
     "text": [
      "dict_keys(['val_loss', 'val_accuracy', 'loss', 'accuracy'])\n"
     ]
    },
    {
     "data": {
      "image/png": "[encoded data removed]",
      "text/plain": [
       "<Figure size 432x288 with 1 Axes>"
      ]
     },
     "metadata": {
      "needs_background": "light"
     },
     "output_type": "display_data"
    }
   ],
   "source": [
    "### print the keys contained in the history object\n",
    "print(history.history.keys())\n",
    "\n",
    "### plot the training and validation loss for each epoch\n",
    "plt.plot(history.history['loss'])\n",
    "plt.plot(history.history['val_loss'])\n",
    "plt.title('model mean squared error loss')\n",
    "plt.ylabel('mean squared error loss')\n",
    "plt.xlabel('epoch')\n",
    "plt.legend(['training set', 'validation set'], loc='upper right')\n",
    "plt.show()"
   ]
  },
  {
   "cell_type": "markdown",
   "metadata": {},
   "source": [
    "# 1 完整保存模型所有状态\n",
    "\n",
    "可以使用model.save(filepath)将Keras模型和权重保存在一个HDF5文件中，该文件将包含：\n",
    "\n",
    "模型的结构，以便重构该模型\n",
    "\n",
    "模型的权重\n",
    "\n",
    "训练配置（损失函数，优化器等）\n",
    "\n",
    "优化器的状态，以便于从上次训练中断的地方开始\n",
    "\n",
    "使用keras.models.load_model(filepath)来重新实例化你的模型，如果文件中存储了训练配置的话，该函数还会同时完成模型的编译\n",
    "\n",
    "**优势**：不仅保存了模型结构和参数，也保存了训练配置等信息，可以方便从上次训练中断的地方继续优化；\n",
    "\n",
    "**劣势**：占用空间太大"
   ]
  },
  {
   "cell_type": "code",
   "execution_count": 240,
   "metadata": {},
   "outputs": [],
   "source": [
    "model_all = 'my_model_all.h5'\n",
    "model.save(model_all)"
   ]
  },
  {
   "cell_type": "code",
   "execution_count": 242,
   "metadata": {},
   "outputs": [],
   "source": [
    "# 加载整个模型\n",
    "model_01 = load_model(model_all)\n",
    " \n",
    "# 也可以继续训练模型\n",
    "#history_01 = model_01.fit(train_data, train_label, batch_size=BATCH_SIZE, epochs=EPOCH, verbose=VERBOSE, validation_split=VALIDATION_SPLIT)"
   ]
  },
  {
   "cell_type": "code",
   "execution_count": 243,
   "metadata": {},
   "outputs": [
    {
     "name": "stdout",
     "output_type": "stream",
     "text": [
      "10000/10000 [==============================] - 1s 72us/step\n",
      "Test score: 0.026589964021544437\n",
      "Test accuracy: 0.9912999868392944\n"
     ]
    }
   ],
   "source": [
    "# 评估模型\n",
    "score = model_01.evaluate(test_data, test_label, verbose=1)\n",
    "print('Test score:', score[0])\n",
    "print('Test accuracy:', score[1])"
   ]
  },
  {
   "cell_type": "markdown",
   "metadata": {},
   "source": [
    "# 2.分别保存/加载模型结构和权重\n",
    "\n",
    "**优势**:节省硬盘空间，方便同步和协作\n",
    "\n",
    "**劣势**:丢失了训练的一些配置信息 "
   ]
  },
  {
   "cell_type": "code",
   "execution_count": 244,
   "metadata": {},
   "outputs": [],
   "source": [
    "model_save_weights = \"my_model_weights.h5\"\n",
    "# 保存模型权重\n",
    "model.save_weights(model_save_weights)"
   ]
  },
  {
   "cell_type": "code",
   "execution_count": 245,
   "metadata": {},
   "outputs": [
    {
     "name": "stdout",
     "output_type": "stream",
     "text": [
      "10000/10000 [==============================] - 1s 59us/step\n",
      "Test score: 0.026589964021544437\n",
      "Test accuracy: 0.9912999868392944\n"
     ]
    }
   ],
   "source": [
    "# 加载模型权重,原model加载参数可以继续训练\n",
    "model.load_weights(model_save_weights)\n",
    "\n",
    "score = model.evaluate(test_data, test_label, verbose=1)\n",
    "print('Test score:', score[0])\n",
    "print('Test accuracy:', score[1])"
   ]
  },
  {
   "cell_type": "markdown",
   "metadata": {},
   "source": [
    "### 方法1：保存为json"
   ]
  },
  {
   "cell_type": "code",
   "execution_count": 246,
   "metadata": {},
   "outputs": [
    {
     "data": {
      "text/plain": [
       "3503"
      ]
     },
     "execution_count": 246,
     "metadata": {},
     "output_type": "execute_result"
    }
   ],
   "source": [
    "json_string = model.to_json()\n",
    "open('my_model_arthitecture.json', 'w').write(json_string)   #重命名"
   ]
  },
  {
   "cell_type": "code",
   "execution_count": 247,
   "metadata": {},
   "outputs": [],
   "source": [
    "#从json中读出数据\n",
    "from keras.models import model_from_json\n",
    "model_02 = model_from_json(json_string)"
   ]
  },
  {
   "cell_type": "code",
   "execution_count": 248,
   "metadata": {},
   "outputs": [],
   "source": [
    "# 加载模型权重,原model加载参数可以继续训练\n",
    "model_02.load_weights(model_save_weights)"
   ]
  },
  {
   "cell_type": "code",
   "execution_count": 249,
   "metadata": {},
   "outputs": [],
   "source": [
    "model_02.compile(optimizer='rmsprop',loss='categorical_crossentropy', metrics=['accuracy'])\n",
    "\n",
    "#history_02 = model_02.fit(train_data, train_label, batch_size=BATCH_SIZE, epochs=EPOCH, verbose=VERBOSE, validation_split=VALIDATION_SPLIT)"
   ]
  },
  {
   "cell_type": "code",
   "execution_count": 250,
   "metadata": {},
   "outputs": [
    {
     "name": "stdout",
     "output_type": "stream",
     "text": [
      "10000/10000 [==============================] - 1s 72us/step\n",
      "Test score: 0.026589964021544437\n",
      "Test accuracy: 0.9912999868392944\n"
     ]
    }
   ],
   "source": [
    "score = model_02.evaluate(test_data, test_label, verbose=1)\n",
    "print('Test score:', score[0])\n",
    "print('Test accuracy:', score[1])"
   ]
  },
  {
   "cell_type": "markdown",
   "metadata": {},
   "source": [
    "## 方法2：保存为yaml"
   ]
  },
  {
   "cell_type": "code",
   "execution_count": 251,
   "metadata": {},
   "outputs": [
    {
     "data": {
      "text/plain": [
       "4112"
      ]
     },
     "execution_count": 251,
     "metadata": {},
     "output_type": "execute_result"
    }
   ],
   "source": [
    "yaml_string = model.to_yaml()\n",
    "open('my_model_arthitecture.yaml', 'w').write(yaml_string)  #重命名"
   ]
  },
  {
   "cell_type": "code",
   "execution_count": 256,
   "metadata": {},
   "outputs": [],
   "source": [
    "#从json中读出数据\n",
    "from keras.models import model_from_yaml\n",
    "model_03 = model_from_yaml(yaml_string)\n",
    "\n",
    "# 加载模型权重,原model加载参数可以继续训练\n",
    "model_03.load_weights(model_save_weights)"
   ]
  },
  {
   "cell_type": "code",
   "execution_count": 257,
   "metadata": {},
   "outputs": [],
   "source": [
    "model_03.compile(optimizer='rmsprop',loss='categorical_crossentropy', metrics=['accuracy'])\n",
    "\n",
    "#history_03 = model_03.fit(train_data, train_label, batch_size=BATCH_SIZE, epochs=EPOCH, verbose=VERBOSE, validation_split=VALIDATION_SPLIT)"
   ]
  },
  {
   "cell_type": "code",
   "execution_count": 258,
   "metadata": {},
   "outputs": [
    {
     "name": "stdout",
     "output_type": "stream",
     "text": [
      "10000/10000 [==============================] - 1s 74us/step\n",
      "Test score: 0.026589964021544437\n",
      "Test accuracy: 0.9912999868392944\n"
     ]
    }
   ],
   "source": [
    "score = model_03.evaluate(test_data, test_label, verbose=1)\n",
    "print('Test score:', score[0])\n",
    "print('Test accuracy:', score[1])"
   ]
  },
  {
   "cell_type": "markdown",
   "metadata": {},
   "source": [
    "这几种保存模型的联系与区别\n",
    "\n",
    "|方法 \t        |保存模型结构\t|保存模型权重\t|是否能进行模型预测|\n",
    "|--------------------|-------------|-------------|------------------|\n",
    "|model.save()      |是\t      |是        |是|\n",
    "|model.save_weights()|否\t       |是\t      |是|\n",
    "|model.to_json()    |是\t      |否\t      |加载权重，编译后能进行正常预测|\n",
    "model.to_yaml()     |是        |\t否       |加载权重，编译后能进行正常预测|\n",
    "\n",
    "ps:重新加载模型后，可以重新训练；或者加载模型和权重后，在上一次权重基础上继续训练；"
   ]
  },
  {
   "cell_type": "markdown",
   "metadata": {},
   "source": [
    "### compile做什么？\n",
    "\n",
    "compile定义了loss function损失函数、optimizer优化器和metrics度量。它与权重无关，也就是说compile并不会影响权重，不会影响之前训练的问题。"
   ]
  },
  {
   "cell_type": "code",
   "execution_count": 259,
   "metadata": {},
   "outputs": [
    {
     "name": "stdout",
     "output_type": "stream",
     "text": [
      "Requirement already satisfied: pydot-ng in /home/leon/anaconda3/lib/python3.7/site-packages (2.0.0)\r\n",
      "Requirement already satisfied: pyparsing>=2.0.1 in /home/leon/anaconda3/lib/python3.7/site-packages (from pydot-ng) (2.4.5)\r\n"
     ]
    }
   ],
   "source": [
    "!pip install pydot-ng "
   ]
  },
  {
   "cell_type": "markdown",
   "metadata": {},
   "source": [
    "# 保存最佳模型"
   ]
  },
  {
   "cell_type": "code",
   "execution_count": 261,
   "metadata": {},
   "outputs": [],
   "source": [
    "from keras.callbacks import ModelCheckpoint"
   ]
  },
  {
   "cell_type": "markdown",
   "metadata": {},
   "source": [
    "keras.callbacks.ModelCheckpoint(filepath, monitor='val_loss', verbose=0, save_best_only=False, save_weights_only=False, mode='auto', period=1)\n",
    "\n",
    "在每个训练期之后保存模型。"
   ]
  },
  {
   "cell_type": "markdown",
   "metadata": {},
   "source": [
    "filepath 可以包括命名格式选项，可以由 epoch 的值和 logs 的键（由 on_epoch_end 参数传递）来填充。\n",
    "\n",
    "例如：如果 filepath 是 weights.{epoch:02d}-{val_loss:.2f}.hdf5， 那么模型被保存的的文件名就会有训练轮数和验证损失。\n",
    "\n",
    "filepath: 字符串，保存模型的路径。\n",
    "\n",
    "monitor: 被监测的数据。\n",
    "\n",
    "verbose: 详细信息模式，0 或者 1 。\n",
    "\n",
    "save_best_only: 如果 save_best_only=True， 只保存在验证集上性能最好的模型。\n",
    "\n",
    "mode: {auto, min, max} 的其中之一。 如果 save_best_only=True，那么是否覆盖保存文件的决定就取决于被监测数据的最大或者最小值。 \n",
    "\n",
    "对于 val_acc，模式就会是 max，\n",
    "\n",
    "而对于 val_loss，模式就需要是 min，等等。 \n",
    "\n",
    "在 auto 模式中，方向会自动从被监测的数据的名字中判断出来。\n",
    "\n",
    "save_weights_only: 如果 True，那么只有模型的权重会被保存 (model.save_weights(filepath))， 否则的话，整个模型会被保存 (model.save(filepath))。\n",
    "\n",
    "period: 每个CheckPoint之间的间隔（训练轮数）。"
   ]
  },
  {
   "cell_type": "code",
   "execution_count": 280,
   "metadata": {},
   "outputs": [],
   "source": [
    "#from keras.callbacks import Tensorboad\n",
    "from keras.callbacks import ModelCheckpoint\n",
    "\n",
    "#filepath=\"word2vec-{epoch:02d}-{loss:.4f}.hdf5\"\n",
    "filepath = 'best_model.h5'\n",
    "checkpoint = ModelCheckpoint(filepath, \n",
    "                             monitor='acc', \n",
    "                             verbose=1, \n",
    "                             save_best_only=True, \n",
    "                             mode='max')\n",
    "\n",
    "callbacks_list = [checkpoint]\n",
    "\n",
    "model.compile(optimizer='rmsprop',loss='categorical_crossentropy', metrics=['accuracy'])\n"
   ]
  },
  {
   "cell_type": "code",
   "execution_count": 281,
   "metadata": {},
   "outputs": [
    {
     "name": "stdout",
     "output_type": "stream",
     "text": [
      "Train on 60000 samples, validate on 10000 samples\n",
      "Epoch 1/20\n",
      "60000/60000 [==============================] - 12s 199us/step - loss: 0.1314 - accuracy: 0.9633 - val_loss: 0.0334 - val_accuracy: 0.9901\n",
      "Epoch 2/20\n",
      "  896/60000 [..............................] - ETA: 10s - loss: 0.1481 - accuracy: 0.9565"
     ]
    },
    {
     "name": "stderr",
     "output_type": "stream",
     "text": [
      "/home/leon/anaconda3/lib/python3.7/site-packages/keras/callbacks/callbacks.py:707: RuntimeWarning: Can save best model only with acc available, skipping.\n",
      "  'skipping.' % (self.monitor), RuntimeWarning)\n"
     ]
    },
    {
     "name": "stdout",
     "output_type": "stream",
     "text": [
      "60000/60000 [==============================] - 12s 192us/step - loss: 0.1239 - accuracy: 0.9650 - val_loss: 0.0312 - val_accuracy: 0.9911\n",
      "Epoch 3/20\n",
      "60000/60000 [==============================] - 12s 192us/step - loss: 0.1287 - accuracy: 0.9657 - val_loss: 0.0351 - val_accuracy: 0.9906\n",
      "Epoch 4/20\n",
      "60000/60000 [==============================] - 12s 193us/step - loss: 0.1246 - accuracy: 0.9653 - val_loss: 0.0361 - val_accuracy: 0.9910\n",
      "Epoch 5/20\n",
      "60000/60000 [==============================] - 12s 193us/step - loss: 0.1298 - accuracy: 0.9639 - val_loss: 0.0355 - val_accuracy: 0.9908\n",
      "Epoch 6/20\n",
      "60000/60000 [==============================] - 12s 193us/step - loss: 0.1269 - accuracy: 0.9647 - val_loss: 0.0340 - val_accuracy: 0.9898\n",
      "Epoch 7/20\n",
      "60000/60000 [==============================] - 12s 192us/step - loss: 0.1302 - accuracy: 0.9639 - val_loss: 0.0354 - val_accuracy: 0.9909\n",
      "Epoch 8/20\n",
      "60000/60000 [==============================] - 12s 192us/step - loss: 0.1337 - accuracy: 0.9629 - val_loss: 0.0380 - val_accuracy: 0.9900\n",
      "Epoch 9/20\n",
      "60000/60000 [==============================] - 12s 192us/step - loss: 0.1311 - accuracy: 0.9637 - val_loss: 0.0289 - val_accuracy: 0.9918\n",
      "Epoch 10/20\n",
      "60000/60000 [==============================] - 12s 192us/step - loss: 0.1316 - accuracy: 0.9635 - val_loss: 0.0325 - val_accuracy: 0.9913\n",
      "Epoch 11/20\n",
      "60000/60000 [==============================] - 12s 192us/step - loss: 0.1327 - accuracy: 0.9625 - val_loss: 0.0368 - val_accuracy: 0.9892\n",
      "Epoch 12/20\n",
      "60000/60000 [==============================] - 12s 192us/step - loss: 0.1353 - accuracy: 0.9619 - val_loss: 0.0449 - val_accuracy: 0.9901\n",
      "Epoch 13/20\n",
      "60000/60000 [==============================] - 12s 201us/step - loss: 0.1382 - accuracy: 0.9619 - val_loss: 0.0497 - val_accuracy: 0.9903\n",
      "Epoch 14/20\n",
      "60000/60000 [==============================] - 12s 196us/step - loss: 0.1370 - accuracy: 0.9622 - val_loss: 0.0630 - val_accuracy: 0.9868\n",
      "Epoch 15/20\n",
      "60000/60000 [==============================] - 12s 192us/step - loss: 0.1346 - accuracy: 0.9627 - val_loss: 0.0397 - val_accuracy: 0.9905\n",
      "Epoch 16/20\n",
      "60000/60000 [==============================] - 12s 192us/step - loss: 0.1344 - accuracy: 0.9620 - val_loss: 0.0318 - val_accuracy: 0.9917\n",
      "Epoch 17/20\n",
      "60000/60000 [==============================] - 12s 192us/step - loss: 0.1354 - accuracy: 0.9624 - val_loss: 0.0381 - val_accuracy: 0.9900\n",
      "Epoch 18/20\n",
      "60000/60000 [==============================] - 12s 192us/step - loss: 0.1384 - accuracy: 0.9624 - val_loss: 0.0516 - val_accuracy: 0.9892\n",
      "Epoch 19/20\n",
      "60000/60000 [==============================] - 12s 192us/step - loss: 0.1352 - accuracy: 0.9631 - val_loss: 0.0955 - val_accuracy: 0.9850\n",
      "Epoch 20/20\n",
      "60000/60000 [==============================] - 12s 192us/step - loss: 0.1332 - accuracy: 0.9629 - val_loss: 0.0535 - val_accuracy: 0.9884\n"
     ]
    }
   ],
   "source": [
    "history = model.fit(train_data, train_label,validation_data=(test_data, test_label), batch_size=BATCH_SIZE, epochs=EPOCH, verbose=VERBOSE,validation_split=VALIDATION_SPLIT,callbacks=callbacks_list)"
   ]
  },
  {
   "cell_type": "code",
   "execution_count": null,
   "metadata": {},
   "outputs": [],
   "source": []
  }
 ],
 "metadata": {
  "kernelspec": {
   "display_name": "Python 3",
   "language": "python",
   "name": "python3"
  },
  "language_info": {
   "codemirror_mode": {
    "name": "ipython",
    "version": 3
   },
   "file_extension": ".py",
   "mimetype": "text/x-python",
   "name": "python",
   "nbconvert_exporter": "python",
   "pygments_lexer": "ipython3",
   "version": "3.7.0"
  }
 },
 "nbformat": 4,
 "nbformat_minor": 2
}
