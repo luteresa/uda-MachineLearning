{
 "cells": [
  {
   "cell_type": "markdown",
   "metadata": {},
   "source": [
    "有用资源\n",
    "![](./nature.png)"
   ]
  },
  {
   "cell_type": "markdown",
   "metadata": {},
   "source": [
    "这是我们在《自然》杂志中发表的文章。\n",
    "\n",
    "与我们的研究相关的其他文章：\n",
    "\n",
    "《财富》杂志: http://fortune.com/2017/01/26/stanford-ai-skin-cancer/\n",
    "\n",
    "《彭博商业周刊》:https://www.bloomberg.com/news/articles/2017-06-29/diagnosing-skin-cancer-with-google-images\n",
    "\n",
    "BBC: http://www.bbc.com/news/health-38717928\n",
    "\n",
    "《华尔街日报》:https://www.wsj.com/articles/computers-turn-medical-sleuths-and-identify-skin-cancer-1486740634?emailToken=JRrzcPt+aXiegNA9bcw301gwc7UFEfTMWk7NKjXPN0TNv3XR5Pmlyrgph8DyqGWjAEd26tYY7mAuACbSgWwvV8aXkLNl1A74KycC8smailE=\n",
    "\n",
    "《福布斯》:https://www.forbes.com/sites/forbestechcouncil/2017/09/27/what-can-computer-vision-do-in-the-palm-of-your-hand/#4d2c686847a7\n",
    "\n",
    "《科学美国人》:https://www.scientificamerican.com/article/deep-learning-networks-rival-human-vision1/\n",
    "\n",
    "注：以上链接中部分为外网链接，国内网络可能无法打开。"
   ]
  },
  {
   "cell_type": "markdown",
   "metadata": {},
   "source": [
    "# 混淆矩阵\n",
    "\n",
    "![](./confusion-matrix.png)\n",
    "\n",
    "\n",
    "# 查准率和召回率\n",
    "\n",
    "![](./precision-recall.png)\n",
    "\n",
    "\n",
    "\n",
    "# 医学中常用敏感性和特异性\n",
    "\n",
    "![](./sensitivity-specificity.png)\n",
    "\n",
    "敏感性和特异性是这个矩阵中的行。更具体地说，如果我们做以下标记\n",
    "\n",
    "TP：（真阳性）被正确诊断为患病的病人。\n",
    "TN：（真阴性）被正确诊断为健康的健康人。\n",
    "FP：（假阳性）被错误诊断为患病的健康人。\n",
    "FN：（假阴性）被错误诊断为健康的病人。\n",
    "那么：\n",
    "\n",
    "$敏感性 = \\frac{TP}{TP + FN}$\n",
    "\n",
    "且\n",
    "\n",
    "$特异性 = \\frac{TN}{TN + FP}$"
   ]
  },
  {
   "cell_type": "markdown",
   "metadata": {},
   "source": [
    "# 分类阈值\n",
    "\n",
    "假设我们有一个能够输出黑色素瘤概率的神经网络。要将它分类为黑色素瘤或者非黑色素瘤，你会选择哪个值作为阈值？\n",
    "\n",
    "0.4\n",
    "\n",
    "![](./threshold.png)\n",
    "\n",
    "正确！阈值越低，对患有癌症的病人做出误诊断、不采取任何治疗措施的可能性越低。这正是我们希望的。"
   ]
  },
  {
   "cell_type": "markdown",
   "metadata": {},
   "source": [
    "# ROC曲线\n",
    "\n",
    "![](./roc-curve.png)"
   ]
  },
  {
   "cell_type": "markdown",
   "metadata": {},
   "source": [
    "# 可视化\n",
    "\n",
    "机器学习具有视觉化结果的出色技巧，实验表明，得到非常高维的输出，然后集群到二维空间，\n"
   ]
  }
 ],
 "metadata": {
  "kernelspec": {
   "display_name": "Python 3",
   "language": "python",
   "name": "python3"
  },
  "language_info": {
   "codemirror_mode": {
    "name": "ipython",
    "version": 3
   },
   "file_extension": ".py",
   "mimetype": "text/x-python",
   "name": "python",
   "nbconvert_exporter": "python",
   "pygments_lexer": "ipython3",
   "version": "3.7.0"
  }
 },
 "nbformat": 4,
 "nbformat_minor": 2
}
