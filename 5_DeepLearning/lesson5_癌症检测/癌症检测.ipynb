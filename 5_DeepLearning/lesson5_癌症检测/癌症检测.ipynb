{
 "cells": [
  {
   "cell_type": "markdown",
   "metadata": {},
   "source": [
    "有用资源\n",
    "![](./nature.png)"
   ]
  },
  {
   "cell_type": "markdown",
   "metadata": {},
   "source": [
    "这是我们在《自然》杂志中发表的文章。\n",
    "\n",
    "与我们的研究相关的其他文章：\n",
    "\n",
    "《财富》杂志: http://fortune.com/2017/01/26/stanford-ai-skin-cancer/\n",
    "\n",
    "《彭博商业周刊》:https://www.bloomberg.com/news/articles/2017-06-29/diagnosing-skin-cancer-with-google-images\n",
    "\n",
    "BBC: http://www.bbc.com/news/health-38717928\n",
    "\n",
    "《华尔街日报》:https://www.wsj.com/articles/computers-turn-medical-sleuths-and-identify-skin-cancer-1486740634?emailToken=JRrzcPt+aXiegNA9bcw301gwc7UFEfTMWk7NKjXPN0TNv3XR5Pmlyrgph8DyqGWjAEd26tYY7mAuACbSgWwvV8aXkLNl1A74KycC8smailE=\n",
    "\n",
    "《福布斯》:https://www.forbes.com/sites/forbestechcouncil/2017/09/27/what-can-computer-vision-do-in-the-palm-of-your-hand/#4d2c686847a7\n",
    "\n",
    "《科学美国人》:https://www.scientificamerican.com/article/deep-learning-networks-rival-human-vision1/\n",
    "\n",
    "注：以上链接中部分为外网链接，国内网络可能无法打开。"
   ]
  },
  {
   "cell_type": "code",
   "execution_count": null,
   "metadata": {},
   "outputs": [],
   "source": []
  }
 ],
 "metadata": {
  "kernelspec": {
   "display_name": "Python 3",
   "language": "python",
   "name": "python3"
  },
  "language_info": {
   "codemirror_mode": {
    "name": "ipython",
    "version": 3
   },
   "file_extension": ".py",
   "mimetype": "text/x-python",
   "name": "python",
   "nbconvert_exporter": "python",
   "pygments_lexer": "ipython3",
   "version": "3.7.0"
  }
 },
 "nbformat": 4,
 "nbformat_minor": 2
}
