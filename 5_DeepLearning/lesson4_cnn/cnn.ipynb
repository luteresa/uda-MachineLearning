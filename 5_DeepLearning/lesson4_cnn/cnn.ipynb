{
 "cells": [
  {
   "cell_type": "markdown",
   "metadata": {},
   "source": [
    "课外资料\n",
    "\n",
    "参阅首篇建议将 dropout 用作避免过拟合技巧的研究论文。\n",
    "https://www.cs.toronto.edu/~hinton/absps/JMLRdropout.pdf\n",
    "\n",
    "\n",
    "这是关于扁平化层级的 Keras 文档。\n",
    "https://keras.io/layers/core/#flatten\n",
    "\n",
    "如果你想详细了解激活函数，请访问此网站。\n",
    "http://cs231n.github.io/neural-networks-1/#actfun"
   ]
  },
  {
   "cell_type": "markdown",
   "metadata": {},
   "source": [
    "课外资料\n",
    "\n",
    "在训练过程中，你可以使用很多回调（例如 ModelCheckpoint）来监控你的模型。你可以参阅此处的详情内容。建议你先详细了解 EarlyStopping 回调。\n",
    "\n",
    "https://keras.io/callbacks/#modelcheckpoint\n",
    "\n",
    "\n",
    "\n",
    "如果你想查看另一个 ModelCheckpoint 代码示例，请参阅这篇博文。\n",
    "\n",
    "https://machinelearningmastery.com/check-point-deep-learning-models-keras/\n",
    "\n",
    "参阅其他分类器的效果。\n",
    "http://yann.lecun.com/exdb/mnist/"
   ]
  }
 ],
 "metadata": {
  "kernelspec": {
   "display_name": "Python 3",
   "language": "python",
   "name": "python3"
  },
  "language_info": {
   "codemirror_mode": {
    "name": "ipython",
    "version": 3
   },
   "file_extension": ".py",
   "mimetype": "text/x-python",
   "name": "python",
   "nbconvert_exporter": "python",
   "pygments_lexer": "ipython3",
   "version": "3.7.0"
  }
 },
 "nbformat": 4,
 "nbformat_minor": 2
}
