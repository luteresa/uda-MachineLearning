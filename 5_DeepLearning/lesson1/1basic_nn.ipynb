{
 "cells": [
  {
   "cell_type": "markdown",
   "metadata": {},
   "source": [
    "# 1.误差函数：\n",
    "\n",
    "应用梯度下降法，误差函数必须是可微的，连续的；"
   ]
  },
  {
   "cell_type": "markdown",
   "metadata": {},
   "source": [
    "# 2.激活函数\n",
    "\n",
    "将离散型函数，转变成连续性函数来处理；\n",
    "\n",
    "常见的有sigmod，relu\n",
    "\n",
    "sigmoid(x) = 1/(1+e-x)"
   ]
  },
  {
   "cell_type": "markdown",
   "metadata": {},
   "source": [
    "# 3.softmax()函数\n",
    "\n",
    "针对多类别，给出每个分类的概率"
   ]
  },
  {
   "cell_type": "code",
   "execution_count": 4,
   "metadata": {},
   "outputs": [],
   "source": [
    "import numpy as np\n",
    "\n",
    "def softmax(L):\n",
    "    expL = np.exp(L)\n",
    "    sumExpL = sum(expL)\n",
    "    result = []\n",
    "    for i in expL:\n",
    "        result.append(i*1.0/sumExpL)\n",
    "    return result"
   ]
  },
  {
   "cell_type": "markdown",
   "metadata": {},
   "source": [
    "# 4.独热编码One-hot"
   ]
  },
  {
   "cell_type": "markdown",
   "metadata": {},
   "source": [
    "# 5.最大似然率\n",
    "\n",
    "对每个点的分类，转化为概率；即正确分类的概率大小；\n",
    "\n",
    "算法的目标是，找出最大发生概率的模型；\n",
    "\n",
    "多个样本同时发生的概率，是所有样本乘积，值会很小，用交叉熵来转化为加法；"
   ]
  },
  {
   "cell_type": "markdown",
   "metadata": {},
   "source": [
    "# 6.交叉熵\n",
    "\n",
    "就是概率的负对数\n",
    "\n",
    "\n",
    "衡量模型的准确率\n",
    "\n",
    "概率越高，交叉熵越小，反之越大；\n",
    "\n",
    "因此，训练模型过程，就转变为求交叉熵最小值过程。"
   ]
  },
  {
   "cell_type": "code",
   "execution_count": 5,
   "metadata": {},
   "outputs": [],
   "source": [
    "import numpy as np\n",
    "\n",
    "# Write a function that takes as input two lists Y, P,\n",
    "# and returns the float corresponding to their cross-entropy.\n",
    "def cross_entropy(Y, P):\n",
    "    Y_ = np.float_(Y)\n",
    "    P_ = np.float_(P)\n",
    "    \n",
    "    return -np.sum(Y_*np.log(P)+(1-Y_)*np.log(1-P_))"
   ]
  },
  {
   "cell_type": "markdown",
   "metadata": {},
   "source": [
    "多类别交叉熵：\n",
    "$$\n",
    "Cross\\_Entropy = -\\sum_{i=1}^n \\sum_{j=1}^m y_{ij}ln(p_{ij})\n",
    "$$"
   ]
  },
  {
   "cell_type": "markdown",
   "metadata": {},
   "source": [
    "误差函数：\n",
    "\n",
    "$$\n",
    "Error\\_Function = -\\frac{1}{m}\\sum_{i=1}^m(1-y_i)(ln(1-\\hat{y_i})) + y_iln(\\hat{y_i})\n",
    "$$"
   ]
  },
  {
   "cell_type": "code",
   "execution_count": null,
   "metadata": {},
   "outputs": [],
   "source": []
  }
 ],
 "metadata": {
  "kernelspec": {
   "display_name": "Python 3",
   "language": "python",
   "name": "python3"
  },
  "language_info": {
   "codemirror_mode": {
    "name": "ipython",
    "version": 3
   },
   "file_extension": ".py",
   "mimetype": "text/x-python",
   "name": "python",
   "nbconvert_exporter": "python",
   "pygments_lexer": "ipython3",
   "version": "3.7.0"
  }
 },
 "nbformat": 4,
 "nbformat_minor": 2
}
